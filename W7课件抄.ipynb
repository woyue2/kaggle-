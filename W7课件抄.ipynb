{
 "cells": [
  {
   "attachments": {},
   "cell_type": "markdown",
   "metadata": {},
   "source": [
    "## 最大匹配法"
   ]
  },
  {
   "cell_type": "code",
   "execution_count": 7,
   "metadata": {},
   "outputs": [],
   "source": [
    "# constant\n",
    "max_size = 4\n",
    "sents = [['北京','举行','新年','音乐会'],['天气','趋势','分析'],['研究','生命','起源']]\n"
   ]
  },
  {
   "cell_type": "code",
   "execution_count": 8,
   "metadata": {},
   "outputs": [],
   "source": [
    "def cut(text: str, vocab: set) -> list[tuple[int, int]]:\n",
    "  \"\"\"\n",
    "  :param text: 待分词的文本\n",
    "  :param vocab: 词典\n",
    "  :return: 区间表示的分词结果 [(start, end), ...]\n",
    "  \"\"\"\n",
    "  result = []\n",
    "  start, end = 0, 0\n",
    "  while start < len(text):\n",
    "    # 最大匹配：尽可能匹配长度更长的词，至少匹配1个字符\n",
    "    for end in range(min(len(text), start + max_size), start, -1):\n",
    "      if text[start:end] in vocab:\n",
    "        break\n",
    "    result.append((start, end))\n",
    "    start = end\n",
    "  return result"
   ]
  },
  {
   "cell_type": "code",
   "execution_count": 10,
   "metadata": {},
   "outputs": [
    {
     "name": "stdout",
     "output_type": "stream",
     "text": [
      "{'生命', '起源', '趋势', '研究', '新年', '举行', '北京', '音乐会', '天气', '分析'}\n"
     ]
    },
    {
     "data": {
      "text/plain": [
       "[(0, 2), (2, 4), (4, 5), (5, 7)]"
      ]
     },
     "execution_count": 10,
     "metadata": {},
     "output_type": "execute_result"
    }
   ],
   "source": [
    "vocab = set([word for sent in sents for word in sent])\n",
    "print(vocab)\n",
    "cut(\"研究生命的起源\", vocab)"
   ]
  },
  {
   "attachments": {},
   "cell_type": "markdown",
   "metadata": {},
   "source": [
    "## 逆最大匹配法"
   ]
  },
  {
   "cell_type": "code",
   "execution_count": 18,
   "metadata": {},
   "outputs": [],
   "source": [
    "def cut(text: str, vocab: set) -> list[tuple[int, int]]:\n",
    "    text = text[::-1]  # Reverse the input text\n",
    "    result = []\n",
    "    start, end = 0, 0\n",
    "    max_size = max(len(word) for word in vocab)  # Find the maximum word length in the vocabulary\n",
    "\n",
    "    while start < len(text):\n",
    "        for end in range(min(len(text), start + max_size), start, -1):\n",
    "            if text[start:end][::-1] in vocab:  # Reverse the substring to match the original text\n",
    "                result.append((start, end))\n",
    "                break\n",
    "        start = end\n",
    "\n",
    "    # Reverse the result and adjust the indices\n",
    "    return [(len(text) - i[1], len(text) - i[0]) for i in result[::-1]]"
   ]
  },
  {
   "cell_type": "code",
   "execution_count": 19,
   "metadata": {},
   "outputs": [
    {
     "name": "stdout",
     "output_type": "stream",
     "text": [
      "{'行举', '势趋', '年新', '会乐音', '源起', '究研', '京北', '析分', '命生', '气天'}\n"
     ]
    },
    {
     "data": {
      "text/plain": [
       "[(0, 2), (2, 4), (5, 7)]"
      ]
     },
     "execution_count": 19,
     "metadata": {},
     "output_type": "execute_result"
    }
   ],
   "source": [
    "vocab = set([word for sent in sents for word in sent])\n",
    "# 构建逆向词表\n",
    "inverted_vocab = set(map(lambda x: x[::-1], vocab))\n",
    "print(inverted_vocab)\n",
    "cut(\"研究生命的起源\", vocab)"
   ]
  },
  {
   "cell_type": "code",
   "execution_count": null,
   "metadata": {},
   "outputs": [],
   "source": []
  }
 ],
 "metadata": {
  "kernelspec": {
   "display_name": "base",
   "language": "python",
   "name": "python3"
  },
  "language_info": {
   "codemirror_mode": {
    "name": "ipython",
    "version": 3
   },
   "file_extension": ".py",
   "mimetype": "text/x-python",
   "name": "python",
   "nbconvert_exporter": "python",
   "pygments_lexer": "ipython3",
   "version": "3.10.9"
  },
  "orig_nbformat": 4
 },
 "nbformat": 4,
 "nbformat_minor": 2
}
