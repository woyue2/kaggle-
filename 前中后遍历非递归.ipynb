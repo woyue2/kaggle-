{
 "cells": [
  {
   "cell_type": "code",
   "execution_count": 60,
   "id": "86934831",
   "metadata": {},
   "outputs": [],
   "source": [
    "class TreeNode:\n",
    "    def __init__(self, val=0, left=None, right=None):\n",
    "        self.val = val\n",
    "        self.left = left\n",
    "        self.right = right\n",
    "    def __str__(self):\n",
    "        return str(self.val) + '(' + str(self.left) + ',' + str(self.right) + ')'"
   ]
  },
  {
   "cell_type": "code",
   "execution_count": 37,
   "id": "755e71a0",
   "metadata": {},
   "outputs": [],
   "source": [
    "root = TreeNode(1)\n",
    "root.left = TreeNode(5)\n",
    "root.right = TreeNode(32)\n",
    "root.left.left = TreeNode(44)\n",
    "root.left.right = TreeNode(51)\n",
    "root.right.right = TreeNode(62)"
   ]
  },
  {
   "cell_type": "code",
   "execution_count": 38,
   "id": "deefee64",
   "metadata": {},
   "outputs": [],
   "source": [
    "#      1            \n",
    "#    5    32     \n",
    "# 44 51 62    "
   ]
  },
  {
   "cell_type": "markdown",
   "id": "0d63aaa4",
   "metadata": {},
   "source": [
    "这是遍历read(traversal)，不是排序sort"
   ]
  },
  {
   "cell_type": "code",
   "execution_count": 39,
   "id": "cf3f09fa",
   "metadata": {
    "scrolled": true
   },
   "outputs": [
    {
     "name": "stdout",
     "output_type": "stream",
     "text": [
      "[1, 5, 44, 51, 32, 62]\n"
     ]
    }
   ],
   "source": [
    "def preorder_recursive(root):\n",
    "    \"\"\"\n",
    "    前 递\n",
    "    \"\"\"\n",
    "    if root is None:\n",
    "        return []\n",
    "    result = []\n",
    "    result.append(root.val)\n",
    "    result.extend(preorder_recursive(root.left))\n",
    "    result.extend(preorder_recursive(root.right))\n",
    "    return result\n",
    "\n",
    "# 调用递归函数进行前序遍历\n",
    "preorder_result_recursive = preorder_recursive(root)\n",
    "print(preorder_result_recursive)"
   ]
  },
  {
   "cell_type": "code",
   "execution_count": 49,
   "id": "f0940e3a",
   "metadata": {
    "scrolled": true
   },
   "outputs": [
    {
     "name": "stdout",
     "output_type": "stream",
     "text": [
      "1(5(44(None,None),51(None,None)),32(None,62(None,None)))\n",
      "5(44(None,None),51(None,None))\n",
      "44(None,None)\n",
      "None\n",
      "None\n",
      "51(None,None)\n",
      "None\n",
      "None\n",
      "32(None,62(None,None))\n",
      "None\n",
      "62(None,None)\n",
      "None\n",
      "None\n",
      "[1, 5, 44, 51, 32, 62]\n"
     ]
    }
   ],
   "source": [
    "def preorderTraversal(root):\n",
    "    \"\"\"\n",
    "    前 栈\n",
    "    \"\"\"\n",
    "    res = []\n",
    "    stack = [root]\n",
    "    while stack:\n",
    "        # pop out the last one\n",
    "        node = stack.pop()\n",
    "        print(node)\n",
    "        if node:\n",
    "            res.append(node.val) \n",
    "            #  LIFO\n",
    "            stack.append(node.right) \n",
    "            stack.append(node.left)\n",
    "    return res\n",
    "print(preorderTraversal(root))"
   ]
  },
  {
   "cell_type": "code",
   "execution_count": 50,
   "id": "bd18f5d8",
   "metadata": {},
   "outputs": [
    {
     "data": {
      "text/plain": [
       "[1, 2, None]"
      ]
     },
     "execution_count": 50,
     "metadata": {},
     "output_type": "execute_result"
    }
   ],
   "source": [
    "res = [1,2]\n",
    "res.append(None)\n",
    "res"
   ]
  },
  {
   "cell_type": "code",
   "execution_count": 51,
   "id": "4d95b287",
   "metadata": {},
   "outputs": [
    {
     "data": {
      "text/plain": [
       "[1, 2]"
      ]
     },
     "execution_count": 51,
     "metadata": {},
     "output_type": "execute_result"
    }
   ],
   "source": [
    "res = [1,2,3]\n",
    "res.pop()\n",
    "res"
   ]
  },
  {
   "cell_type": "markdown",
   "id": "56211c4d",
   "metadata": {},
   "source": [
    "中序"
   ]
  },
  {
   "cell_type": "code",
   "execution_count": null,
   "id": "08f89946",
   "metadata": {},
   "outputs": [],
   "source": [
    "#      1            \n",
    "#    5    32     \n",
    "# 44 51 62    "
   ]
  },
  {
   "cell_type": "code",
   "execution_count": 53,
   "id": "267ba7c9",
   "metadata": {},
   "outputs": [
    {
     "data": {
      "text/plain": [
       "[44, 5, 51, 1, 32, 62]"
      ]
     },
     "execution_count": 53,
     "metadata": {},
     "output_type": "execute_result"
    }
   ],
   "source": [
    "def inorder_recursive(root):\n",
    "    \"\"\"\n",
    "    中 递\n",
    "    \"\"\"\n",
    "    if root is None:\n",
    "        return []\n",
    "    result = []\n",
    "    result.extend(inorder_recursive(root.left))\n",
    "    result.append(root.val)\n",
    "    result.extend(inorder_recursive(root.right))\n",
    "    return result\n",
    "inorder_recursive(root)"
   ]
  },
  {
   "cell_type": "code",
   "execution_count": 72,
   "id": "eeaf057e",
   "metadata": {
    "scrolled": true
   },
   "outputs": [
    {
     "name": "stdout",
     "output_type": "stream",
     "text": [
      "stack  ['1(5(44(None,None),51(None,None)),32(None,62(None,None)))']\n",
      "stack  ['1(5(44(None,None),51(None,None)),32(None,62(None,None)))', '5(44(None,None),51(None,None))']\n",
      "stack  ['1(5(44(None,None),51(None,None)),32(None,62(None,None)))', '5(44(None,None),51(None,None))', '44(None,None)']\n",
      "stack  ['1(5(44(None,None),51(None,None)),32(None,62(None,None)))', '51(None,None)']\n",
      "stack  ['32(None,62(None,None))']\n",
      "stack  ['62(None,None)']\n"
     ]
    },
    {
     "data": {
      "text/plain": [
       "[44, 5, 51, 1, 32, 62]"
      ]
     },
     "execution_count": 72,
     "metadata": {},
     "output_type": "execute_result"
    }
   ],
   "source": [
    "def inorderTraversal(root):\n",
    "    \"\"\"\n",
    "    中 栈\n",
    "    \"\"\"\n",
    "    res = [] \n",
    "    stack = []\n",
    "    node = root\n",
    "    while stack or node:\n",
    "        if node:\n",
    "            stack.append(node)\n",
    "            node = node.left\n",
    "            print(f'stack  {[str(node) for node in stack]}')\n",
    "        else:\n",
    "\n",
    "            node = stack.pop()\n",
    "\n",
    "            res.append(node.val)\n",
    "\n",
    "            node = node.right\n",
    "\n",
    "    return res\n",
    "inorderTraversal(root)"
   ]
  },
  {
   "cell_type": "code",
   "execution_count": 74,
   "id": "818d84eb",
   "metadata": {},
   "outputs": [
    {
     "data": {
      "text/plain": [
       "[44, 51, 5, 62, 32, 1]"
      ]
     },
     "execution_count": 74,
     "metadata": {},
     "output_type": "execute_result"
    }
   ],
   "source": [
    "def postorder_recursive(root):\n",
    "    \"\"\"\n",
    "    后 递\n",
    "    \"\"\"\n",
    "    if root is None:\n",
    "        return []\n",
    "    result = []\n",
    "    result.extend(postorder_recursive(root.left))\n",
    "    result.extend(postorder_recursive(root.right))\n",
    "    result.append(root.val)\n",
    "    return result\n",
    "postorder_recursive(root)"
   ]
  },
  {
   "cell_type": "code",
   "execution_count": null,
   "id": "09dd1e01",
   "metadata": {},
   "outputs": [],
   "source": [
    "#      1            \n",
    "#    5    32     \n",
    "# 44 51 62    "
   ]
  },
  {
   "cell_type": "code",
   "execution_count": 92,
   "id": "bf2ff5cb",
   "metadata": {
    "scrolled": false
   },
   "outputs": [
    {
     "name": "stdout",
     "output_type": "stream",
     "text": [
      "stack  ['1(5(44(None,None),51(None,None)),32(None,62(None,None)))']\n",
      "stack  ['1(5(44(None,None),51(None,None)),32(None,62(None,None)))', '32(None,62(None,None))', '5(44(None,None),51(None,None))']\n",
      "stack  ['1(5(44(None,None),51(None,None)),32(None,62(None,None)))', '32(None,62(None,None))', '5(44(None,None),51(None,None))', '51(None,None)', '44(None,None)']\n",
      "True False         False False        Ellipsis   None   None\n",
      "\n",
      "stack  ['1(5(44(None,None),51(None,None)),32(None,62(None,None)))', '32(None,62(None,None))', '5(44(None,None),51(None,None))', '51(None,None)']\n",
      "True False         False False        44(None,None)   None   None\n",
      "\n",
      "stack  ['1(5(44(None,None),51(None,None)),32(None,62(None,None)))', '32(None,62(None,None))', '5(44(None,None),51(None,None))']\n",
      "False True         False True        51(None,None)   44(None,None)   51(None,None)\n",
      "\n",
      "stack  ['1(5(44(None,None),51(None,None)),32(None,62(None,None)))', '32(None,62(None,None))']\n",
      "stack  ['1(5(44(None,None),51(None,None)),32(None,62(None,None)))', '32(None,62(None,None))', '62(None,None)']\n",
      "True False         False False        5(44(None,None),51(None,None))   None   None\n",
      "\n",
      "stack  ['1(5(44(None,None),51(None,None)),32(None,62(None,None)))', '32(None,62(None,None))']\n",
      "False True         False True        62(None,None)   None   62(None,None)\n",
      "\n",
      "stack  ['1(5(44(None,None),51(None,None)),32(None,62(None,None)))']\n",
      "False True         False True        32(None,62(None,None))   5(44(None,None),51(None,None))   32(None,62(None,None))\n",
      "\n"
     ]
    },
    {
     "data": {
      "text/plain": [
       "[44, 51, 5, 62, 32, 1]"
      ]
     },
     "execution_count": 92,
     "metadata": {},
     "output_type": "execute_result"
    }
   ],
   "source": [
    "# 后序遍历 \n",
    "def postorderTraversal(root):\n",
    "    res = []\n",
    "    stack = [root]\n",
    "    prev = ... #  Ellipsis 超妙！\n",
    "    while stack:\n",
    "        print(f'stack  {[str(node) for node in stack]}')       \n",
    "        node = stack[-1]\n",
    "        if (not node.left and not node.right) or (prev==node.left or prev==node.right): \n",
    "            print(f'{not node.left and not node.right} {prev and (prev==node.left or prev==node.right)} \\\n",
    "        {prev==node.left} {prev==node.right}\\\n",
    "        {prev}   {node.left}   {node.right}\\n')\n",
    "            res.append(node.val)\n",
    "            stack.pop()\n",
    "            prev = node\n",
    "        else:\n",
    "            if node.right:\n",
    "                stack.append(node.right)\n",
    "            if node.left:\n",
    "                stack.append(node.left)\n",
    "    return res\n",
    "postorderTraversal(root)"
   ]
  },
  {
   "cell_type": "code",
   "execution_count": 79,
   "id": "fdf2b4cc",
   "metadata": {},
   "outputs": [
    {
     "data": {
      "text/plain": [
       "False"
      ]
     },
     "execution_count": 79,
     "metadata": {},
     "output_type": "execute_result"
    }
   ],
   "source": [
    "... == None"
   ]
  },
  {
   "cell_type": "code",
   "execution_count": null,
   "id": "cb08dbdc",
   "metadata": {},
   "outputs": [],
   "source": []
  }
 ],
 "metadata": {
  "kernelspec": {
   "display_name": "Python 3 (ipykernel)",
   "language": "python",
   "name": "python3"
  },
  "language_info": {
   "codemirror_mode": {
    "name": "ipython",
    "version": 3
   },
   "file_extension": ".py",
   "mimetype": "text/x-python",
   "name": "python",
   "nbconvert_exporter": "python",
   "pygments_lexer": "ipython3",
   "version": "3.10.9"
  }
 },
 "nbformat": 4,
 "nbformat_minor": 5
}
