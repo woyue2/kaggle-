{
 "cells": [
  {
   "cell_type": "markdown",
   "id": "08e5c33a",
   "metadata": {},
   "source": [
    "2.找出一个字符串中是否有连续的6个数字(正则表达式)。\n",
    "\n",
    "3.验证用户密码，长度在6~18 之间，只能包含英文和数字。"
   ]
  },
  {
   "cell_type": "code",
   "execution_count": 3,
   "id": "45b0bd3a",
   "metadata": {},
   "outputs": [
    {
     "name": "stdout",
     "output_type": "stream",
     "text": [
      "True\n",
      "False\n"
     ]
    }
   ],
   "source": [
    "import re\n",
    "\n",
    "def has_six_digits(text):\n",
    "    pattern = r'\\d{6}'\n",
    "    match = re.search(pattern, text)\n",
    "    return match is not None\n",
    "\n",
    "# 示例用法\n",
    "text1 = \"abc123456def\"  # 存在连续的六个数字\n",
    "text2 = \"abc12345def\"   # 不存在连续的六个数字\n",
    "\n",
    "print(has_six_digits(text1))  # 输出：True\n",
    "print(has_six_digits(text2))  # 输出：False"
   ]
  },
  {
   "cell_type": "code",
   "execution_count": 5,
   "id": "3898c951",
   "metadata": {},
   "outputs": [
    {
     "name": "stdout",
     "output_type": "stream",
     "text": [
      "True\n",
      "True\n",
      "False\n"
     ]
    }
   ],
   "source": [
    "import re\n",
    "\n",
    "def validate_password(password):\n",
    "    pattern = r\"^[a-zA-Z0-9]{6,18}$\"\n",
    "    match = re.match(pattern, password)\n",
    "    return match is not None\n",
    "\n",
    "# 示例用法\n",
    "password1 = \"Abc123\"     # 符合要求\n",
    "password2 = \"abc1234567\" # 长度超过18\n",
    "password3 = \"abc#123\"    # 包含非法字符\n",
    "\n",
    "print(validate_password(password1))  # 输出：True\n",
    "print(validate_password(password2))  # 输出：False\n",
    "print(validate_password(password3))  # 输出：False"
   ]
  },
  {
   "cell_type": "code",
   "execution_count": null,
   "id": "a5478ab8",
   "metadata": {},
   "outputs": [],
   "source": []
  }
 ],
 "metadata": {
  "kernelspec": {
   "display_name": "Python 3 (ipykernel)",
   "language": "python",
   "name": "python3"
  },
  "language_info": {
   "codemirror_mode": {
    "name": "ipython",
    "version": 3
   },
   "file_extension": ".py",
   "mimetype": "text/x-python",
   "name": "python",
   "nbconvert_exporter": "python",
   "pygments_lexer": "ipython3",
   "version": "3.10.9"
  }
 },
 "nbformat": 4,
 "nbformat_minor": 5
}
