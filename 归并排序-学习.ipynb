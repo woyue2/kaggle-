{
 "cells": [
  {
   "cell_type": "code",
   "execution_count": 25,
   "id": "7009880a",
   "metadata": {},
   "outputs": [],
   "source": [
    "def mergeSort(arr):\n",
    "    if(len(arr)<2):\n",
    "        return arr\n",
    "    middle = len(arr)//2\n",
    "    left, right = arr[0:middle], arr[middle:]\n",
    "    print(f\"middle is {middle}, left is {left}, right is {right}\")\n",
    "    return merge(mergeSort(left), mergeSort(right))\n",
    "\n",
    "def merge(left,right):\n",
    "    print(f\"- merging left is {left}, right is {right} \")\n",
    "    result = []\n",
    "    while left and right:\n",
    "        if left[0] <= right[0]:\n",
    "            result.append(left.pop(0))\n",
    "        else:\n",
    "            result.append(right.pop(0));\n",
    "    while left:\n",
    "        print(f\"only left {left[0]}\")\n",
    "        result.append(left.pop(0))\n",
    "    while right:\n",
    "        print(f\"only righ {right[0]}\")\n",
    "        result.append(right.pop(0));\n",
    "    print(result)\n",
    "    return result"
   ]
  },
  {
   "cell_type": "code",
   "execution_count": 26,
   "id": "a264f3dd",
   "metadata": {
    "scrolled": true
   },
   "outputs": [
    {
     "name": "stdout",
     "output_type": "stream",
     "text": [
      "middle is 3, left is [6, 5, 4], right is [3, 2, 1]\n",
      "middle is 1, left is [6], right is [5, 4]\n",
      "middle is 1, left is [5], right is [4]\n",
      "- merging left is [5], right is [4] \n",
      "only left 5\n",
      "[4, 5]\n",
      "- merging left is [6], right is [4, 5] \n",
      "only left 6\n",
      "[4, 5, 6]\n",
      "middle is 1, left is [3], right is [2, 1]\n",
      "middle is 1, left is [2], right is [1]\n",
      "- merging left is [2], right is [1] \n",
      "only left 2\n",
      "[1, 2]\n",
      "- merging left is [3], right is [1, 2] \n",
      "only left 3\n",
      "[1, 2, 3]\n",
      "- merging left is [4, 5, 6], right is [1, 2, 3] \n",
      "only left 4\n",
      "only left 5\n",
      "only left 6\n",
      "[1, 2, 3, 4, 5, 6]\n"
     ]
    },
    {
     "data": {
      "text/plain": [
       "[1, 2, 3, 4, 5, 6]"
      ]
     },
     "execution_count": 26,
     "metadata": {},
     "output_type": "execute_result"
    }
   ],
   "source": [
    "arr = [6,5,4,3,2,1]\n",
    "mergeSort(arr)"
   ]
  },
  {
   "cell_type": "code",
   "execution_count": 27,
   "id": "33134dd7",
   "metadata": {},
   "outputs": [
    {
     "name": "stdout",
     "output_type": "stream",
     "text": [
      "middle is 3, left is [6, 52, -4], right is [3, 2, 1]\n",
      "middle is 1, left is [6], right is [52, -4]\n",
      "middle is 1, left is [52], right is [-4]\n",
      "- merging left is [52], right is [-4] \n",
      "only left 52\n",
      "[-4, 52]\n",
      "- merging left is [6], right is [-4, 52] \n",
      "only righ 52\n",
      "[-4, 6, 52]\n",
      "middle is 1, left is [3], right is [2, 1]\n",
      "middle is 1, left is [2], right is [1]\n",
      "- merging left is [2], right is [1] \n",
      "only left 2\n",
      "[1, 2]\n",
      "- merging left is [3], right is [1, 2] \n",
      "only left 3\n",
      "[1, 2, 3]\n",
      "- merging left is [-4, 6, 52], right is [1, 2, 3] \n",
      "only left 6\n",
      "only left 52\n",
      "[-4, 1, 2, 3, 6, 52]\n"
     ]
    },
    {
     "data": {
      "text/plain": [
       "[-4, 1, 2, 3, 6, 52]"
      ]
     },
     "execution_count": 27,
     "metadata": {},
     "output_type": "execute_result"
    }
   ],
   "source": [
    "arr = [6,52,-4,3,2,1]\n",
    "mergeSort(arr)"
   ]
  },
  {
   "cell_type": "code",
   "execution_count": null,
   "id": "554d834f",
   "metadata": {},
   "outputs": [],
   "source": []
  }
 ],
 "metadata": {
  "kernelspec": {
   "display_name": "Python 3 (ipykernel)",
   "language": "python",
   "name": "python3"
  },
  "language_info": {
   "codemirror_mode": {
    "name": "ipython",
    "version": 3
   },
   "file_extension": ".py",
   "mimetype": "text/x-python",
   "name": "python",
   "nbconvert_exporter": "python",
   "pygments_lexer": "ipython3",
   "version": "3.10.9"
  }
 },
 "nbformat": 4,
 "nbformat_minor": 5
}
