{
 "cells": [
  {
   "cell_type": "code",
   "execution_count": 1,
   "metadata": {},
   "outputs": [
    {
     "name": "stdout",
     "output_type": "stream",
     "text": [
      "4 研究生命\n",
      "3 研究生\n",
      "2 研究\n",
      "4 生命的起\n",
      "3 生命的\n",
      "2 生命\n",
      "4 的起源\n",
      "3 的起源\n",
      "2 的起\n",
      "1 的\n",
      "4 起源\n",
      "['研究', '生命', '的', '起源']\n"
     ]
    }
   ],
   "source": [
    "# 1前向最大匹配\n",
    "def forward_maximum_matching(text, dictionary):\n",
    "    result = []\n",
    "    while text:\n",
    "        for i in range(max_size, 0, -1):\n",
    "            word = text[0:i]\n",
    "            print(i, word)\n",
    "            if i == 1:\n",
    "                add = text[0]\n",
    "                result.append(add)\n",
    "                text = text[1:]\n",
    "            if word not in dictionary:\n",
    "                continue\n",
    "            add = text[:i]\n",
    "            result.append(add)\n",
    "            text = text[i:]\n",
    "            break\n",
    "    return result\n",
    "\n",
    "max_size = 4\n",
    "dictionary = [['北京','举行','新年','音乐会'],['天气','趋势','分析'],['研究','生命','起源']]\n",
    "vocab = set([word for diction in dictionary for word in diction])\n",
    "res = forward_maximum_matching('研究生命的起源', vocab)\n",
    "print(res)"
   ]
  },
  {
   "cell_type": "code",
   "execution_count": null,
   "metadata": {},
   "outputs": [],
   "source": []
  }
 ],
 "metadata": {
  "kernelspec": {
   "display_name": "base",
   "language": "python",
   "name": "python3"
  },
  "language_info": {
   "codemirror_mode": {
    "name": "ipython",
    "version": 3
   },
   "file_extension": ".py",
   "mimetype": "text/x-python",
   "name": "python",
   "nbconvert_exporter": "python",
   "pygments_lexer": "ipython3",
   "version": "3.10.9"
  },
  "orig_nbformat": 4
 },
 "nbformat": 4,
 "nbformat_minor": 2
}
