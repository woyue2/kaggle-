{
 "cells": [
  {
   "cell_type": "code",
   "execution_count": 46,
   "id": "3a8606da",
   "metadata": {},
   "outputs": [
    {
     "name": "stdout",
     "output_type": "stream",
     "text": [
      "[[ 1.  8.  3. ...  3.  3.  1.]\n",
      " [ 1.  8.  8. ...  7.  8.  7.]\n",
      " [ 1.  1.  1. ...  3.  1.  1.]\n",
      " ...\n",
      " [ 1. 10. 10. ...  8.  1.  5.]\n",
      " [ 1.  3. 10. ...  5.  1.  4.]\n",
      " [ 1.  1.  1. ...  1.  1.  1.]]\n",
      "Accuracy: 0.9343065693430657\n"
     ]
    },
    {
     "data": {
      "image/png": "[encoded data removed]",
      "text/plain": [
       "<Figure size 640x480 with 1 Axes>"
      ]
     },
     "metadata": {},
     "output_type": "display_data"
    }
   ],
   "source": [
    "\n",
    "import numpy as np\n",
    "import pandas as pd\n",
    "import matplotlib.pyplot as plt\n",
    "#手撕实现逻辑回归（不使用机器学习的库）\n",
    "def sigmoid(x):\n",
    "    return 1 / (1 + np.exp(-x))\n",
    "\n",
    "def gradient_descent(X, y, alpha, epochs):\n",
    "    #  alpha == learning rate\n",
    "    m, n = X.shape\n",
    "    #  theta == matrix of weight \n",
    "    theta = np.zeros(n)\n",
    "    losses = []\n",
    "    for _ in range(epochs):\n",
    "        y_pred = sigmoid(np.dot(X, theta))\n",
    "        loss = -(1/m) * np.sum(y * np.log(y_pred) + (1-y) * np.log(1-y_pred))\n",
    "        gradient = (1 / m) * np.dot(X.T, y_pred - y)\n",
    "        #  theta == matrix of weight \n",
    "        theta -= alpha * gradient\n",
    "        losses.append(loss)\n",
    "    return theta, losses\n",
    "\n",
    "def logistic_regression(X, y, alpha=0.01, epochs=1000):\n",
    "    m, n = X.shape\n",
    "    X = np.column_stack((np.ones(m), X)) \n",
    "    print(X)\n",
    "    y = y.astype(float)\n",
    "    theta, losses = gradient_descent(X, y, alpha, epochs)\n",
    "    return theta, losses\n",
    "\n",
    "\n",
    "data = pd.read_csv('breast-cancer-wisconsin.data', header=None)\n",
    "data = data.replace('?', np.nan).dropna().astype(int)  # 如果不astype(转成int)就是object类型，是字符串\n",
    "target = data.iloc[:, -1].replace({2: 0, 4: 1}).values   # Series.values cai h\n",
    "features = data.iloc[:, 1:-1].values\n",
    "\n",
    "\n",
    "np.random.seed(42) # \n",
    "indices = np.random.permutation(len(target)) # permutation排列\n",
    "train_size = int(0.8 * len(target))\n",
    "train_indices = indices[:train_size]\n",
    "test_indices = indices[train_size:]\n",
    "X_train, y_train = features[train_indices], target[train_indices]\n",
    "X_test, y_test = features[test_indices], target[test_indices]\n",
    "\n",
    "\n",
    "theta, losses = logistic_regression(X_train, y_train)\n",
    "X_test = np.column_stack((np.ones(X_test.shape[0]), X_test))  \n",
    "y_pred = (sigmoid(np.dot(X_test, theta)) > 0.5).astype(int)  \n",
    "\n",
    "\n",
    "correct_predictions = np.sum(y_test == y_pred)\n",
    "accuracy = correct_predictions / len(y_test)\n",
    "print('Accuracy:', accuracy)\n",
    "\n",
    "plt.plot(range(len(losses)), losses)\n",
    "plt.xlabel('Epoch')\n",
    "plt.ylabel('Loss')\n",
    "plt.show()\n"
   ]
  },
  {
   "cell_type": "code",
   "execution_count": 39,
   "id": "92d48fa6",
   "metadata": {
    "scrolled": true
   },
   "outputs": [
    {
     "data": {
      "text/plain": [
       "array([292, 145, 211, 118, 302, 375, 355, 158, 335, 581, 321, 514, 213,\n",
       "       176, 265, 220,  90,  54, 388, 181, 148, 650, 377, 291, 311, 644,\n",
       "       227, 571, 135, 473, 329, 499, 304,  63,  77, 563, 467, 380, 109,\n",
       "        72, 132, 212, 451,  10, 294, 610, 165, 326, 674,  31,  78, 633,\n",
       "       360, 264, 670, 500,  55, 271, 529, 120, 136, 431,   2, 425, 678,\n",
       "       354, 314, 101, 662,  81, 412, 289,  76, 174, 296,  60, 532,  30,\n",
       "        69, 209, 215,  44,  70, 204, 488, 223, 133, 521, 155, 558, 523,\n",
       "        65, 636,  49, 328, 131,  39, 306, 250,   6, 583, 349, 259, 164,\n",
       "       589, 342, 327, 679, 199,  86, 182, 290, 247, 634, 192, 497,  41,\n",
       "       487, 108, 530,  56, 664, 281, 495, 631, 234, 588, 318,  24, 404,\n",
       "       602, 638, 110,  82,  51, 210, 548, 437, 256, 584,  18, 350, 528,\n",
       "       465, 208,  61, 248, 533,  29, 336, 408, 544, 319, 422, 482, 357,\n",
       "       332, 235, 218, 669, 468, 405, 490, 542, 639, 640, 163, 278, 597,\n",
       "       464, 334, 453, 395, 104, 114, 612, 353, 448,  92,   7,  89, 518,\n",
       "       445, 649, 361, 352, 244, 140, 249,  43,  42,  73, 167, 611, 595,\n",
       "        66,  11, 443, 613, 586, 260, 346, 231, 618, 557, 177, 457, 429,\n",
       "        83, 501, 593, 444,  79,  23,  15, 369, 417, 284, 671, 320, 341,\n",
       "       137, 340, 299,  33, 535, 257,   9,  22, 605, 221, 617, 668, 493,\n",
       "        84, 481, 550, 507, 525, 203, 196, 599, 620,  93, 652, 286, 478,\n",
       "       363, 623,  28, 184, 549, 277, 178, 538, 153,  75, 409,  68, 367,\n",
       "       188, 236,  88, 576, 117, 511, 559, 238,   0, 675, 275, 656, 331,\n",
       "       116, 228, 300, 310, 274, 626, 144, 390, 362, 616, 483, 268, 449,\n",
       "        46, 261, 195, 682, 569, 107, 446, 522, 655, 100, 421, 609, 567,\n",
       "       179, 338, 149, 124, 541, 590, 185, 627, 382, 673, 333, 629, 142,\n",
       "       141, 381,  19, 172, 646, 312, 635,  12, 305,  25, 503, 169, 462,\n",
       "       396, 245, 298, 420, 272, 154, 126, 534, 287, 113, 356, 173, 344,\n",
       "        57, 428, 222, 280,  17, 393, 322, 255, 430, 653, 190, 424, 601,\n",
       "       621,  94, 180, 301, 665, 494, 439, 436, 643,   5,  45, 594, 515,\n",
       "       625,  16,  48, 659, 624,   3, 434, 398, 316, 628, 283, 485, 285,\n",
       "       399, 225,  26, 537, 263,  50, 364, 229,  37, 157, 237, 654, 374,\n",
       "       370, 175, 577, 480, 194, 579, 587, 411, 456, 658, 645, 585,  67,\n",
       "       426, 168, 432, 162, 309, 193, 570, 365, 383, 676, 479, 152, 681,\n",
       "       447, 226, 552, 547, 103, 651, 517,  74, 115, 407, 657, 119,  53,\n",
       "       151, 403, 642, 207, 648, 470, 452, 527,   8, 506,  36, 139, 253,\n",
       "       303, 513, 516, 368,  59, 111, 543, 486, 615, 262, 572, 297, 414,\n",
       "       150, 433, 440, 266, 592, 359, 604,  38, 127, 423, 416, 307, 198,\n",
       "       351, 477, 146, 450, 632, 512, 419, 442, 606, 147, 536, 348, 463,\n",
       "       325, 186, 123, 578,  96, 143, 239, 394, 469, 545,  97, 371, 324,\n",
       "       279, 293, 254, 400, 122, 183, 202, 438, 323, 246, 415, 197, 551,\n",
       "       568, 171, 603, 129, 125, 402, 539, 531, 219, 619, 519, 622, 526,\n",
       "       386, 660, 509, 267, 441, 496, 112, 232, 591, 373, 233, 554, 317,\n",
       "       410, 608, 358, 258, 282, 376, 384, 224, 647, 556, 472, 347, 505])"
      ]
     },
     "execution_count": 39,
     "metadata": {},
     "output_type": "execute_result"
    }
   ],
   "source": [
    "train_indices = indices[:train_size]\n",
    "train_indices"
   ]
  },
  {
   "cell_type": "code",
   "execution_count": 41,
   "id": "d531f3bf",
   "metadata": {
    "scrolled": true
   },
   "outputs": [
    {
     "data": {
      "text/plain": [
       "array([[ 8,  3,  4, ...,  3,  3,  1],\n",
       "       [ 8,  8,  7, ...,  7,  8,  7],\n",
       "       [ 1,  1,  1, ...,  3,  1,  1],\n",
       "       ...,\n",
       "       [10, 10, 10, ...,  8,  1,  5],\n",
       "       [ 3, 10,  3, ...,  5,  1,  4],\n",
       "       [ 1,  1,  1, ...,  1,  1,  1]])"
      ]
     },
     "execution_count": 41,
     "metadata": {},
     "output_type": "execute_result"
    }
   ],
   "source": [
    "features[train_indices]"
   ]
  },
  {
   "cell_type": "code",
   "execution_count": 45,
   "id": "a06663d0",
   "metadata": {
    "scrolled": false
   },
   "outputs": [
    {
     "data": {
      "text/plain": [
       "array([1, 1, 1, 1, 2, 1, 3, 1, 1])"
      ]
     },
     "execution_count": 45,
     "metadata": {},
     "output_type": "execute_result"
    }
   ],
   "source": [
    "features[211]"
   ]
  },
  {
   "cell_type": "code",
   "execution_count": null,
   "id": "b7c4b0b6",
   "metadata": {},
   "outputs": [],
   "source": []
  }
 ],
 "metadata": {
  "kernelspec": {
   "display_name": "Python 3 (ipykernel)",
   "language": "python",
   "name": "python3"
  },
  "language_info": {
   "codemirror_mode": {
    "name": "ipython",
    "version": 3
   },
   "file_extension": ".py",
   "mimetype": "text/x-python",
   "name": "python",
   "nbconvert_exporter": "python",
   "pygments_lexer": "ipython3",
   "version": "3.10.9"
  }
 },
 "nbformat": 4,
 "nbformat_minor": 5
}
