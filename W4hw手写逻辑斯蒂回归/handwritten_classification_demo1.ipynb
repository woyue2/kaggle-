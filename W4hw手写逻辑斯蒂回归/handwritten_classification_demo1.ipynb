{
 "cells": [
  {
   "cell_type": "code",
   "execution_count": 1,
   "id": "7995cf4c",
   "metadata": {},
   "outputs": [],
   "source": [
    "import numpy as np\n",
    "import random\n",
    "learning_rate = 0.1"
   ]
  },
  {
   "cell_type": "code",
   "execution_count": 12,
   "id": "0a498265",
   "metadata": {},
   "outputs": [],
   "source": [
    "def readOneLine(content : str):\n",
    "    content = content[0:-1]\n",
    "    lst = content.split(',')\n",
    "    for i in range(len(lst)):\n",
    "        if lst[i] == '?':\n",
    "            return []\n",
    "        else:\n",
    "            lst[i] = int(lst[i])\n",
    "        id, f1, f2, f3, f4, f5, f6, f7, f8, f9, state = \\\n",
    "        lst[0], lst[1], lst[2], lst[3], lst[4], lst[5], lst[6], lst[7], lst[8], lst[9], lst[10]\n",
    "    return [id, f1, f2, f3, f4, f5, f6, f7, f8, f9, state]\n",
    "\n",
    "def getX(data : list):\n",
    "    x0 = 1\n",
    "    x1 = data[1]\n",
    "    x2 = data[2]\n",
    "    x3 = data[3]\n",
    "    x4 = data[4]\n",
    "    x5 = data[5]\n",
    "    x6 = data[6]\n",
    "    x7 = data[7]\n",
    "    x8 = data[8]\n",
    "    x9 = data[9]   \n",
    "    return [x0, x1, x2, x3, x4, x5, x6, x7, x8, x9]\n",
    "\n",
    "# def getCol(data, index:int):\n",
    "#     lst = []\n",
    "#     for i in range(len(data)):\n",
    "#         lst.append(data[i][index])\n",
    "#     return lst\n",
    "\n",
    "def sigmoid(z):\n",
    "    return 1 / (1 + np.exp(-z))\n",
    "\n",
    "def getLoss(y, y_pred):\n",
    "    return -np.mean(y * np.log(y_pred) + (1 - y) * np.log(1 - y_pred))\n",
    "\n",
    "def getPartialDerivative(y_train, sig_y_pred, y_pred, w):\n",
    "    \"\"\" 感觉可能错了 \"\"\"\n",
    "    LtoY = (-1* (y_train)) * (1/ sig_y_pred) + (1- y_train) * (1/ (1 - sig_y_pred))  # len 599\n",
    "    YtoZ = np.exp(-y_pred) / (1 - np.exp(-y_pred))**2 # len 599\n",
    "    ZtoX = w # an interger\n",
    "    res = np.dot(LtoY, YtoZ) * ZtoX\n",
    "    return res\n",
    "\n",
    "def updateWeight(y_train, sig_y_pred, y_pred, lst_w, learing_rate = 0.1):\n",
    "    for i in range(len(lst_w)):\n",
    "        lst_w[i] -= learning_rate * getPartialDerivative(\n",
    "            np.mean(y_train), \n",
    "            np.mean(sig_y_pred), \n",
    "            np.mean(y_pred), \n",
    "            lst_w[i]\n",
    "        )\n",
    "    return lst_w\n",
    "    "
   ]
  },
  {
   "cell_type": "code",
   "execution_count": 26,
   "id": "79e40a12",
   "metadata": {},
   "outputs": [],
   "source": [
    "# read data\n",
    "file = open(\"data.csv\", \"r\")\n",
    "content = file.readlines()\n",
    "data = []\n",
    "for i in range(len(content)):\n",
    "    data.append(readOneLine(content[i]))\n",
    "data_fil = []\n",
    "for i in range(len(data)):\n",
    "    if data[i]:\n",
    "        data_fil.append(data[i])\n",
    "data = data_fil\n",
    "\n",
    "# split X_train, y_train, X_test, y_test\n",
    "X = []\n",
    "for i in range(len(data)):\n",
    "    lst = getX(data[i])\n",
    "    X.append(lst)\n",
    "Y = []\n",
    "for i in range(len(data)):\n",
    "    if (data[i][-1]) == 2: \n",
    "        Y.append(0) # 良性\n",
    "    else:\n",
    "        Y.append(1) # 阴性\n",
    "        \n",
    "X_train, X_test = np.array(X[0:599]), np.array(X[600:])\n",
    "y_train, y_test = np.array(Y[0:599]), np.array(Y[600:])\n",
    "\n",
    "# initiate w_i\n",
    "# lst_w = [w0, w1, w2, w3, w4, w5, w6, w7, w8, w9] \n",
    "lst_w = [0.1, 0.1, 0.1, 0.1, 0.1, 0.1, 0.1, 0.1, 0.1, 0.1, ]\n",
    "# predict\n",
    "y_pred = np.dot(np.array(X_train), np.array(lst_w))\n",
    "# sigmoid\n",
    "sig_y_pred = sigmoid(y_pred)\n",
    "# loss\n",
    "loss = getLoss(y_train, sig_y_pred) # 1.1290013285404448\n",
    "# loss -> partial derivative\n",
    "\n",
    "# iterate\n",
    "counter = 0\n",
    "while (loss > 1e-6):\n",
    "    lst_w = updateWeight(y_train, sig_y_pred, y_pred, lst_w)\n",
    "    y_pred = np.dot(np.array(X_train), np.array(lst_w))\n",
    "    sig_y_pred = sigmoid(y_pred)\n",
    "    y_train = sigmoid(np.array(y_train))\n",
    "    loss = getLoss(sig_y_pred, y_train)\n",
    "    counter += 1\n",
    "    if counter > 1000:\n",
    "        break"
   ]
  },
  {
   "cell_type": "code",
   "execution_count": 27,
   "id": "bb500722",
   "metadata": {
    "scrolled": true
   },
   "outputs": [
    {
     "data": {
      "text/plain": [
       "0.6416661885108471"
      ]
     },
     "execution_count": 27,
     "metadata": {},
     "output_type": "execute_result"
    }
   ],
   "source": [
    "loss"
   ]
  },
  {
   "cell_type": "code",
   "execution_count": 28,
   "id": "d630266c",
   "metadata": {
    "scrolled": true
   },
   "outputs": [
    {
     "data": {
      "text/plain": [
       "[0.02302658241063296,\n",
       " 0.02302658241063296,\n",
       " 0.02302658241063296,\n",
       " 0.02302658241063296,\n",
       " 0.02302658241063296,\n",
       " 0.02302658241063296,\n",
       " 0.02302658241063296,\n",
       " 0.02302658241063296,\n",
       " 0.02302658241063296,\n",
       " 0.02302658241063296]"
      ]
     },
     "execution_count": 28,
     "metadata": {},
     "output_type": "execute_result"
    }
   ],
   "source": [
    "lst_w"
   ]
  },
  {
   "cell_type": "code",
   "execution_count": 25,
   "id": "0224f3b8",
   "metadata": {
    "scrolled": true
   },
   "outputs": [
    {
     "data": {
      "text/plain": [
       "array([0, 0, 0, 0, 0, 1, 0, 0, 0, 0, 0, 0, 1, 0, 1, 1, 0, 0, 1, 0, 1, 1,\n",
       "       0, 0, 1, 0, 0, 0, 0, 0, 0, 1, 0, 0, 0, 1, 0, 1, 1, 1, 1, 1, 1, 0,\n",
       "       1, 0, 0, 1, 1, 1, 1, 1, 1, 1, 1, 1, 1, 1, 1, 0, 1, 1, 0, 1, 0, 1,\n",
       "       1, 0, 0, 1, 0, 1, 1, 0, 0, 0, 0, 0, 0, 0, 0, 0, 1, 1, 1, 1, 0, 0,\n",
       "       0, 0, 0, 0, 0, 0, 0, 0, 1, 1, 1, 1, 0, 1, 1, 1, 1, 1, 0, 1, 0, 1,\n",
       "       1, 1, 0, 0, 0, 1, 0, 0, 0, 0, 1, 1, 1, 0, 1, 0, 1, 0, 0, 0, 1, 0,\n",
       "       0, 0, 0, 0, 0, 0, 0, 1, 0, 0, 1, 0, 0, 1, 0, 1, 1, 0, 0, 1, 0, 0,\n",
       "       1, 1, 0, 0, 0, 0, 1, 1, 0, 0, 0, 0, 0, 1, 1, 1, 0, 1, 0, 1, 0, 0,\n",
       "       0, 1, 1, 0, 1, 1, 1, 0, 1, 1, 0, 0, 0, 0, 0, 0, 0, 0, 1, 1, 0, 0,\n",
       "       0, 1, 1, 0, 0, 0, 1, 1, 0, 1, 1, 1, 0, 0, 1, 0, 0, 1, 1, 1, 1, 0,\n",
       "       1, 1, 0, 1, 1, 1, 0, 1, 0, 1, 1, 1, 1, 0, 0, 0, 0, 0, 0, 1, 1, 0,\n",
       "       0, 1, 0, 1, 1, 1, 0, 0, 0, 0, 1, 1, 1, 1, 1, 0, 1, 1, 1, 0, 1, 0,\n",
       "       1, 1, 0, 0, 0, 0, 1, 0, 0, 1, 1, 1, 1, 1, 0, 1, 1, 0, 0, 1, 1, 0,\n",
       "       0, 1, 1, 0, 1, 0, 1, 1, 0, 0, 1, 0, 0, 0, 1, 0, 0, 1, 1, 0, 0, 1,\n",
       "       0, 1, 0, 0, 1, 0, 1, 1, 1, 0, 0, 1, 1, 0, 1, 0, 0, 1, 1, 0, 0, 0,\n",
       "       1, 0, 0, 0, 1, 1, 0, 0, 0, 1, 0, 0, 1, 1, 1, 1, 1, 1, 0, 0, 0, 0,\n",
       "       1, 1, 0, 0, 0, 0, 0, 0, 0, 0, 0, 0, 0, 0, 0, 1, 0, 0, 0, 0, 1, 0,\n",
       "       0, 0, 0, 1, 0, 0, 0, 0, 0, 0, 0, 0, 1, 0, 0, 0, 0, 0, 0, 0, 0, 0,\n",
       "       0, 1, 0, 1, 0, 1, 0, 0, 0, 0, 1, 0, 0, 0, 1, 0, 1, 0, 0, 0, 0, 0,\n",
       "       0, 0, 1, 1, 0, 0, 0, 1, 0, 0, 0, 0, 0, 0, 0, 0, 1, 0, 0, 0, 1, 0,\n",
       "       1, 1, 1, 0, 0, 0, 0, 0, 0, 0, 1, 1, 1, 0, 0, 0, 0, 0, 0, 0, 0, 0,\n",
       "       0, 0, 1, 0, 0, 1, 1, 0, 0, 0, 1, 1, 1, 0, 1, 0, 1, 0, 0, 0, 0, 0,\n",
       "       0, 0, 0, 0, 0, 0, 0, 1, 0, 0, 0, 0, 0, 0, 0, 1, 1, 0, 0, 0, 1, 0,\n",
       "       0, 1, 1, 0, 0, 0, 0, 0, 0, 1, 0, 0, 0, 0, 0, 0, 0, 0, 0, 0, 0, 0,\n",
       "       0, 0, 0, 1, 0, 0, 1, 0, 0, 0, 0, 0, 0, 0, 0, 0, 0, 0, 0, 0, 0, 0,\n",
       "       1, 0, 0, 1, 1, 1, 1, 0, 0, 1, 0, 0, 0, 0, 0, 0, 1, 1, 0, 0, 0, 1,\n",
       "       0, 1, 0, 1, 1, 1, 0, 1, 0, 0, 0, 0, 0, 0, 0, 0, 1, 1, 1, 0, 0, 1,\n",
       "       0, 1, 1, 1, 0])"
      ]
     },
     "execution_count": 25,
     "metadata": {},
     "output_type": "execute_result"
    }
   ],
   "source": [
    "y_train"
   ]
  },
  {
   "cell_type": "code",
   "execution_count": null,
   "id": "c74c3baf",
   "metadata": {},
   "outputs": [],
   "source": []
  },
  {
   "cell_type": "code",
   "execution_count": 29,
   "id": "89c10ba0",
   "metadata": {},
   "outputs": [
    {
     "data": {
      "text/plain": [
       "array([ 0, -1, -2])"
      ]
     },
     "execution_count": 29,
     "metadata": {},
     "output_type": "execute_result"
    }
   ],
   "source": [
    "1 - np.array([1,2,3])"
   ]
  }
 ],
 "metadata": {
  "kernelspec": {
   "display_name": "Python 3 (ipykernel)",
   "language": "python",
   "name": "python3"
  },
  "language_info": {
   "codemirror_mode": {
    "name": "ipython",
    "version": 3
   },
   "file_extension": ".py",
   "mimetype": "text/x-python",
   "name": "python",
   "nbconvert_exporter": "python",
   "pygments_lexer": "ipython3",
   "version": "3.10.9"
  }
 },
 "nbformat": 4,
 "nbformat_minor": 5
}
