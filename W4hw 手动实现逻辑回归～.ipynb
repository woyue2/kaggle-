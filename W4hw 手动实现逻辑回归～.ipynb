{
 "cells": [
  {
   "cell_type": "code",
   "execution_count": null,
   "id": "9b925e59",
   "metadata": {},
   "outputs": [],
   "source": []
  },
  {
   "cell_type": "markdown",
   "id": "d748b44d",
   "metadata": {},
   "source": [
    "```\n",
    "逻辑回归（Logistic Regression）是一种用于解决分类问题的机器学习算法。尽管其名称中包含\"回归\"一词，但逻辑回归实际上是一种分类算法，用于将输入数据分为不同的类别。\n",
    "\n",
    "逻辑回归的目标是根据输入特征预测数据属于某个类别的概率。它通过将线性函数的输出映射到一个概率范围内（通常是0到1之间），并使用一个称为 sigmoid 函数的激活函数来实现这一点。Sigmoid 函数将任何实数映射到一个范围在0到1之间的值。\n",
    "\n",
    "在逻辑回归中，我们使用训练数据来估计模型的参数，其中包括权重（coefficients）和偏差（bias）。训练过程通常涉及最大化似然函数或最小化损失函数，以最大程度地拟合训练数据，并产生对新输入进行分类的可靠预测。\n",
    "\n",
    "逻辑回归广泛应用于许多领域，包括医学、金融、社会科学等。它可以用于二分类问题（如良性/恶性肿瘤）和多分类问题（如手写数字识别）。\n",
    "\n",
    "需要注意的是，逻辑回归是一种线性模型，它通过对输入特征的线性组合进行非线性转换来实现对数据的分类。\n",
    "```"
   ]
  },
  {
   "cell_type": "code",
   "execution_count": null,
   "id": "e5c1d2c9",
   "metadata": {},
   "outputs": [],
   "source": []
  }
 ],
 "metadata": {
  "kernelspec": {
   "display_name": "Python 3 (ipykernel)",
   "language": "python",
   "name": "python3"
  },
  "language_info": {
   "codemirror_mode": {
    "name": "ipython",
    "version": 3
   },
   "file_extension": ".py",
   "mimetype": "text/x-python",
   "name": "python",
   "nbconvert_exporter": "python",
   "pygments_lexer": "ipython3",
   "version": "3.10.9"
  }
 },
 "nbformat": 4,
 "nbformat_minor": 5
}
