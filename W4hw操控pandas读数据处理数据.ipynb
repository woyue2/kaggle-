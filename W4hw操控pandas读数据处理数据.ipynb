{
 "cells": [
  {
   "cell_type": "code",
   "execution_count": 1,
   "id": "90d909b7",
   "metadata": {},
   "outputs": [
    {
     "name": "stdout",
     "output_type": "stream",
     "text": [
      "        Name  Birth Year Gender  Count\n",
      "0   Isabella        2015      M    465\n",
      "1  Charlotte        2010      F    957\n",
      "2        Ava        2013      F    890\n",
      "3       Emma        2013      M    887\n",
      "4     Olivia        2017      M    118\n"
     ]
    }
   ],
   "source": [
    "import pandas as pd\n",
    "\n",
    "# 读取数据文件\n",
    "data = pd.read_csv(\"baby_names.txt\", sep=\"\\t\")\n",
    "\n",
    "# 打印前几行数据\n",
    "print(data.head())"
   ]
  },
  {
   "cell_type": "code",
   "execution_count": 4,
   "id": "449470f0",
   "metadata": {},
   "outputs": [],
   "source": [
    "# 统计数据集中男孩名字和女孩名字各是多少。"
   ]
  },
  {
   "cell_type": "code",
   "execution_count": 9,
   "id": "fc5e99eb",
   "metadata": {},
   "outputs": [
    {
     "name": "stdout",
     "output_type": "stream",
     "text": [
      "男孩名字数量: 10\n",
      "女孩名字数量: 10\n"
     ]
    }
   ],
   "source": [
    "import pandas as pd\n",
    "\n",
    "# 读取数据文件\n",
    "data = pd.read_csv(\"baby_names.txt\", sep=\"\\t\")\n",
    "\n",
    "# 统计男孩和女孩名字数量\n",
    "boy_names = data[data[\"Gender\"] == \"M\"][\"Name\"].nunique()\n",
    "# boy_names = data[data[\"Gender\"] == \"M\"][\"Name\"].count()就是出现了就算, nunique是不重复的\n",
    "girl_names = data[data[\"Gender\"] == \"F\"][\"Name\"].nunique()\n",
    "\n",
    "# 打印结果\n",
    "print(\"男孩名字数量:\", boy_names)\n",
    "print(\"女孩名字数量:\", girl_names)"
   ]
  },
  {
   "cell_type": "code",
   "execution_count": 20,
   "id": "4e57a25b",
   "metadata": {},
   "outputs": [
    {
     "data": {
      "text/plain": [
       "pandas.core.series.Series"
      ]
     },
     "execution_count": 20,
     "metadata": {},
     "output_type": "execute_result"
    }
   ],
   "source": [
    "# type(data[data[\"Gender\"] == \"M\"][\"Name\"])"
   ]
  },
  {
   "cell_type": "code",
   "execution_count": 22,
   "id": "7aa2b4df",
   "metadata": {},
   "outputs": [],
   "source": [
    "# 按照Name字段将数据集进行分组并求和赋值给变量names，最后输出前五行。"
   ]
  },
  {
   "cell_type": "code",
   "execution_count": 23,
   "id": "30ade22b",
   "metadata": {
    "scrolled": true
   },
   "outputs": [
    {
     "name": "stdout",
     "output_type": "stream",
     "text": [
      "           Birth Year  Count\n",
      "Name                        \n",
      "Amelia          16105   4689\n",
      "Ava             24174   7311\n",
      "Charlotte       22153   5941\n",
      "Emma            22165   6811\n",
      "Isabella        22149   5549\n"
     ]
    },
    {
     "name": "stderr",
     "output_type": "stream",
     "text": [
      "/var/folders/nw/5s06sntd385dltr9fp63npnc0000gn/T/ipykernel_5044/3868108461.py:2: FutureWarning: The default value of numeric_only in DataFrameGroupBy.sum is deprecated. In a future version, numeric_only will default to False. Either specify numeric_only or select only columns which should be valid for the function.\n",
      "  names = data.groupby(\"Name\").sum()\n"
     ]
    }
   ],
   "source": [
    "# 按照 Name 字段进行分组并求和\n",
    "names = data.groupby(\"Name\").sum()\n",
    "\n",
    "# 输出前五行\n",
    "print(names.head(5))"
   ]
  },
  {
   "cell_type": "code",
   "execution_count": 25,
   "id": "8eb862ea",
   "metadata": {},
   "outputs": [],
   "source": [
    "# 按照每个名字被使用的次数（Count）对第二步中结果进行降序排序，得出最受欢迎的的五个名字。"
   ]
  },
  {
   "cell_type": "code",
   "execution_count": 31,
   "id": "3f746e9c",
   "metadata": {},
   "outputs": [
    {
     "data": {
      "text/html": [
       "<div>\n",
       "<style scoped>\n",
       "    .dataframe tbody tr th:only-of-type {\n",
       "        vertical-align: middle;\n",
       "    }\n",
       "\n",
       "    .dataframe tbody tr th {\n",
       "        vertical-align: top;\n",
       "    }\n",
       "\n",
       "    .dataframe thead th {\n",
       "        text-align: right;\n",
       "    }\n",
       "</style>\n",
       "<table border=\"1\" class=\"dataframe\">\n",
       "  <thead>\n",
       "    <tr style=\"text-align: right;\">\n",
       "      <th></th>\n",
       "      <th>Count</th>\n",
       "    </tr>\n",
       "    <tr>\n",
       "      <th>Name</th>\n",
       "      <th></th>\n",
       "    </tr>\n",
       "  </thead>\n",
       "  <tbody>\n",
       "    <tr>\n",
       "      <th>Amelia</th>\n",
       "      <td>4689</td>\n",
       "    </tr>\n",
       "    <tr>\n",
       "      <th>Ava</th>\n",
       "      <td>7311</td>\n",
       "    </tr>\n",
       "    <tr>\n",
       "      <th>Charlotte</th>\n",
       "      <td>5941</td>\n",
       "    </tr>\n",
       "    <tr>\n",
       "      <th>Emma</th>\n",
       "      <td>6811</td>\n",
       "    </tr>\n",
       "    <tr>\n",
       "      <th>Isabella</th>\n",
       "      <td>5549</td>\n",
       "    </tr>\n",
       "    <tr>\n",
       "      <th>Liam</th>\n",
       "      <td>3206</td>\n",
       "    </tr>\n",
       "    <tr>\n",
       "      <th>Mia</th>\n",
       "      <td>5451</td>\n",
       "    </tr>\n",
       "    <tr>\n",
       "      <th>Noah</th>\n",
       "      <td>6719</td>\n",
       "    </tr>\n",
       "    <tr>\n",
       "      <th>Olivia</th>\n",
       "      <td>4796</td>\n",
       "    </tr>\n",
       "    <tr>\n",
       "      <th>Sophia</th>\n",
       "      <td>1552</td>\n",
       "    </tr>\n",
       "  </tbody>\n",
       "</table>\n",
       "</div>"
      ],
      "text/plain": [
       "           Count\n",
       "Name            \n",
       "Amelia      4689\n",
       "Ava         7311\n",
       "Charlotte   5941\n",
       "Emma        6811\n",
       "Isabella    5549\n",
       "Liam        3206\n",
       "Mia         5451\n",
       "Noah        6719\n",
       "Olivia      4796\n",
       "Sophia      1552"
      ]
     },
     "execution_count": 31,
     "metadata": {},
     "output_type": "execute_result"
    }
   ],
   "source": [
    "names = names.drop(['Birth Year'], axis= 1)\n",
    "names"
   ]
  },
  {
   "cell_type": "code",
   "execution_count": 34,
   "id": "f1050861",
   "metadata": {},
   "outputs": [
    {
     "data": {
      "text/html": [
       "<div>\n",
       "<style scoped>\n",
       "    .dataframe tbody tr th:only-of-type {\n",
       "        vertical-align: middle;\n",
       "    }\n",
       "\n",
       "    .dataframe tbody tr th {\n",
       "        vertical-align: top;\n",
       "    }\n",
       "\n",
       "    .dataframe thead th {\n",
       "        text-align: right;\n",
       "    }\n",
       "</style>\n",
       "<table border=\"1\" class=\"dataframe\">\n",
       "  <thead>\n",
       "    <tr style=\"text-align: right;\">\n",
       "      <th></th>\n",
       "      <th>Count</th>\n",
       "    </tr>\n",
       "    <tr>\n",
       "      <th>Name</th>\n",
       "      <th></th>\n",
       "    </tr>\n",
       "  </thead>\n",
       "  <tbody>\n",
       "    <tr>\n",
       "      <th>Ava</th>\n",
       "      <td>7311</td>\n",
       "    </tr>\n",
       "    <tr>\n",
       "      <th>Emma</th>\n",
       "      <td>6811</td>\n",
       "    </tr>\n",
       "    <tr>\n",
       "      <th>Noah</th>\n",
       "      <td>6719</td>\n",
       "    </tr>\n",
       "    <tr>\n",
       "      <th>Charlotte</th>\n",
       "      <td>5941</td>\n",
       "    </tr>\n",
       "    <tr>\n",
       "      <th>Isabella</th>\n",
       "      <td>5549</td>\n",
       "    </tr>\n",
       "    <tr>\n",
       "      <th>Mia</th>\n",
       "      <td>5451</td>\n",
       "    </tr>\n",
       "    <tr>\n",
       "      <th>Olivia</th>\n",
       "      <td>4796</td>\n",
       "    </tr>\n",
       "    <tr>\n",
       "      <th>Amelia</th>\n",
       "      <td>4689</td>\n",
       "    </tr>\n",
       "    <tr>\n",
       "      <th>Liam</th>\n",
       "      <td>3206</td>\n",
       "    </tr>\n",
       "    <tr>\n",
       "      <th>Sophia</th>\n",
       "      <td>1552</td>\n",
       "    </tr>\n",
       "  </tbody>\n",
       "</table>\n",
       "</div>"
      ],
      "text/plain": [
       "           Count\n",
       "Name            \n",
       "Ava         7311\n",
       "Emma        6811\n",
       "Noah        6719\n",
       "Charlotte   5941\n",
       "Isabella    5549\n",
       "Mia         5451\n",
       "Olivia      4796\n",
       "Amelia      4689\n",
       "Liam        3206\n",
       "Sophia      1552"
      ]
     },
     "execution_count": 34,
     "metadata": {},
     "output_type": "execute_result"
    }
   ],
   "source": [
    "popular_names = names.sort_values(by=\"Count\", ascending=False)\n",
    "popular_names"
   ]
  },
  {
   "cell_type": "code",
   "execution_count": 43,
   "id": "0218cca6",
   "metadata": {},
   "outputs": [
    {
     "data": {
      "text/plain": [
       "['Ava', 'Emma', 'Noah', 'Charlotte', 'Isabella']"
      ]
     },
     "execution_count": 43,
     "metadata": {},
     "output_type": "execute_result"
    }
   ],
   "source": [
    "popular_names.head(5).index.tolist()"
   ]
  },
  {
   "cell_type": "code",
   "execution_count": 46,
   "id": "7a7da47a",
   "metadata": {
    "scrolled": true
   },
   "outputs": [
    {
     "data": {
      "text/plain": [
       "Index(['Amelia', 'Ava', 'Charlotte', 'Emma', 'Isabella', 'Liam', 'Mia', 'Noah',\n",
       "       'Olivia', 'Sophia'],\n",
       "      dtype='object', name='Name')"
      ]
     },
     "execution_count": 46,
     "metadata": {},
     "output_type": "execute_result"
    }
   ],
   "source": [
    "# 在数据集中，共出现了多少个名字？(不包含重复项)\n",
    "names.index"
   ]
  },
  {
   "cell_type": "code",
   "execution_count": 49,
   "id": "c0a463a0",
   "metadata": {},
   "outputs": [],
   "source": [
    "import numpy as np"
   ]
  },
  {
   "cell_type": "code",
   "execution_count": 51,
   "id": "3518a87b",
   "metadata": {},
   "outputs": [
    {
     "data": {
      "text/plain": [
       "10"
      ]
     },
     "execution_count": 51,
     "metadata": {},
     "output_type": "execute_result"
    }
   ],
   "source": [
    "np.count_nonzero(names.index)"
   ]
  },
  {
   "cell_type": "code",
   "execution_count": null,
   "id": "2f5249a9",
   "metadata": {},
   "outputs": [],
   "source": []
  }
 ],
 "metadata": {
  "kernelspec": {
   "display_name": "Python 3 (ipykernel)",
   "language": "python",
   "name": "python3"
  },
  "language_info": {
   "codemirror_mode": {
    "name": "ipython",
    "version": 3
   },
   "file_extension": ".py",
   "mimetype": "text/x-python",
   "name": "python",
   "nbconvert_exporter": "python",
   "pygments_lexer": "ipython3",
   "version": "3.10.9"
  }
 },
 "nbformat": 4,
 "nbformat_minor": 5
}
