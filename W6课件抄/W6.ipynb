{
 "cells": [
  {
   "cell_type": "code",
   "execution_count": 14,
   "metadata": {},
   "outputs": [
    {
     "name": "stdout",
     "output_type": "stream",
     "text": [
      "0      0\n",
      "1      0\n",
      "2      0\n",
      "3      0\n",
      "4      0\n",
      "      ..\n",
      "779    0\n",
      "780    0\n",
      "781    0\n",
      "782    0\n",
      "783    0\n",
      "Name: 1, Length: 784, dtype: uint8\n",
      "x_test.csv 已保存。\n",
      "0      0\n",
      "1      0\n",
      "2      0\n",
      "3      0\n",
      "4      0\n",
      "      ..\n",
      "779    0\n",
      "780    0\n",
      "781    0\n",
      "782    0\n",
      "783    0\n",
      "Name: 1, Length: 784, dtype: uint8\n",
      "x_train.csv 已保存。\n",
      "0    0\n",
      "Name: 1, dtype: uint8\n",
      "y_train.csv 已保存。\n",
      "0    2\n",
      "Name: 1, dtype: uint8\n",
      "y_test.csv 已保存。\n"
     ]
    }
   ],
   "source": [
    "import numpy as np\n",
    "import pandas as pd\n",
    "\n",
    "# 读取NPZ文件\n",
    "data = np.load('mnist.npz')\n",
    "\n",
    "# 将数据保存为CSV文件\n",
    "for array_name in data.files:\n",
    "    array = data[array_name]\n",
    "    # array.shape[0]是样本的第x个\n",
    "    # 将二维数组展平为一维数组意味着将28x28的像素矩阵转换为一个长度为784的一维向量。\n",
    "    flattened_array = array.reshape(array.shape[0], -1)  # 将三维数组展平为二维\n",
    "    df = pd.DataFrame(flattened_array)\n",
    "    print(df.iloc[1])\n",
    "    csv_filename = array_name + '.csv'\n",
    "    df.to_csv(csv_filename, index=False)\n",
    "    print(f'{csv_filename} 已保存。')"
   ]
  },
  {
   "cell_type": "code",
   "execution_count": 12,
   "metadata": {},
   "outputs": [
    {
     "name": "stdout",
     "output_type": "stream",
     "text": [
      "x_test\n",
      "x_train\n",
      "y_train\n",
      "y_test\n"
     ]
    }
   ],
   "source": [
    "for array_name in data.files:\n",
    "    print(array_name)"
   ]
  },
  {
   "cell_type": "code",
   "execution_count": null,
   "metadata": {},
   "outputs": [],
   "source": []
  }
 ],
 "metadata": {
  "kernelspec": {
   "display_name": "base",
   "language": "python",
   "name": "python3"
  },
  "language_info": {
   "codemirror_mode": {
    "name": "ipython",
    "version": 3
   },
   "file_extension": ".py",
   "mimetype": "text/x-python",
   "name": "python",
   "nbconvert_exporter": "python",
   "pygments_lexer": "ipython3",
   "version": "3.10.9"
  },
  "orig_nbformat": 4
 },
 "nbformat": 4,
 "nbformat_minor": 2
}
