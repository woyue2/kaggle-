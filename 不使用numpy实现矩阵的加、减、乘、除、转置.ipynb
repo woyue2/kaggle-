{
 "cells": [
  {
   "cell_type": "markdown",
   "id": "868ab7e7",
   "metadata": {},
   "source": [
    "使用numpy实现矩阵的加、减、乘、除、转置、以及不使用numpy实现矩阵的加、减、乘、除、转置，使用时间模块对比运行速度（满足任意形状的矩阵运算）。"
   ]
  },
  {
   "cell_type": "code",
   "execution_count": 11,
   "id": "49f99d34",
   "metadata": {},
   "outputs": [
    {
     "name": "stdout",
     "output_type": "stream",
     "text": [
      "NumPy elapsed time: 0.00010204315185546875\n",
      "[[0, 0, 0, 0, 0, 0, 0, 0, 0, 0], [0, 0, 0, 0, 0, 0, 0, 0, 0, 0]]\n",
      "No NumPy elapsed time: 0.0006589889526367188\n"
     ]
    }
   ],
   "source": [
    "import numpy as np\n",
    "from time import time\n",
    "import random\n",
    "\n",
    "# 生成样本矩阵 \n",
    "m, n = 2, 10\n",
    "A = np.random.random((m,n)) \n",
    "B = np.random.random((m,n))\n",
    "\n",
    "# 使用 NumPy\n",
    "start = time()\n",
    "C = A + B\n",
    "D = A - B\n",
    "E = A * B  \n",
    "F = A / B\n",
    "G = A.T\n",
    "end = time()\n",
    "print(\"NumPy elapsed time:\", end-start)\n",
    "\n",
    "# 不使用 NumPy\n",
    "start = time() \n",
    "C = [[0 for i in range(n)] for j in range(m)]\n",
    "print(C)\n",
    "for i in range(m):\n",
    "    for j in range(n):\n",
    "        C[i][j] = A[i][j] + B[i][j]\n",
    "\n",
    "D = [[0 for i in range(n)] for j in range(m)]  \n",
    "for i in range(m):\n",
    "    for j in range(n): \n",
    "        D[i][j] = A[i][j] - B[i][j]\n",
    "        \n",
    "E = [[0 for i in range(n)] for j in range(m)]\n",
    "for i in range(m):\n",
    "    for j in range(n):\n",
    "        E[i][j] = A[i][j] * B[i][j]\n",
    "        \n",
    "F = [[0 for i in range(n)] for j in range(m)]\n",
    "for i in range(m):\n",
    "    for j in range(n):\n",
    "        F[i][j] = A[i][j] / B[i][j]\n",
    "        \n",
    "G = [[0 for i in range(m)] for j in range(n)]  \n",
    "for i in range(m):\n",
    "    for j in range(n):\n",
    "        G[j][i] = A[i][j]\n",
    "end = time()\n",
    "print(\"No NumPy elapsed time:\", end-start)"
   ]
  },
  {
   "cell_type": "code",
   "execution_count": 3,
   "id": "de97cb9d",
   "metadata": {},
   "outputs": [
    {
     "data": {
      "text/plain": [
       "array([[0.8802249 , 0.80731615, 0.3786813 , 0.7973472 , 0.589702  ],\n",
       "       [0.48662953, 0.96849316, 0.72877021, 0.45645821, 0.28070912],\n",
       "       [0.80582206, 0.42674332, 0.44126907, 0.86970021, 0.92832551],\n",
       "       [0.26626403, 0.34633474, 0.41357319, 0.26252514, 0.24635944],\n",
       "       [0.70303634, 0.36938797, 0.15483786, 0.67759054, 0.11394851],\n",
       "       [0.89458802, 0.70936416, 0.7995547 , 0.41620995, 0.1989996 ],\n",
       "       [0.13102628, 0.13004746, 0.12134061, 0.23610038, 0.06129648],\n",
       "       [0.03453501, 0.9544587 , 0.93660335, 0.8689107 , 0.35528432],\n",
       "       [0.28790567, 0.54629959, 0.4825127 , 0.34086177, 0.65625111],\n",
       "       [0.89967072, 0.33119694, 0.79694185, 0.11303258, 0.79554871]])"
      ]
     },
     "execution_count": 3,
     "metadata": {},
     "output_type": "execute_result"
    }
   ],
   "source": [
    "m1"
   ]
  },
  {
   "cell_type": "code",
   "execution_count": 4,
   "id": "3470548a",
   "metadata": {},
   "outputs": [
    {
     "data": {
      "text/plain": [
       "array([[0.98007347, 0.30148539, 0.80232899, 0.60576863, 0.79244683],\n",
       "       [0.40931347, 0.32073508, 0.38750977, 0.87488635, 0.23612503],\n",
       "       [0.31523424, 0.50530869, 0.95762107, 0.46326199, 0.31967203],\n",
       "       [0.68797997, 0.62900137, 0.03072482, 0.44064413, 0.9373975 ],\n",
       "       [0.58302433, 0.53305451, 0.48584997, 0.21270718, 0.89876997],\n",
       "       [0.04583494, 0.63497962, 0.27251725, 0.46626942, 0.86231616],\n",
       "       [0.30534279, 0.30065011, 0.97508723, 0.20441296, 0.52880247],\n",
       "       [0.13697592, 0.25232338, 0.57241758, 0.62959882, 0.3930012 ],\n",
       "       [0.48911266, 0.65016545, 0.46802317, 0.1251206 , 0.67879274],\n",
       "       [0.67960812, 0.22469332, 0.89849679, 0.88941813, 0.30091186]])"
      ]
     },
     "execution_count": 4,
     "metadata": {},
     "output_type": "execute_result"
    }
   ],
   "source": [
    "m2"
   ]
  },
  {
   "cell_type": "code",
   "execution_count": null,
   "id": "9b93a51d",
   "metadata": {},
   "outputs": [],
   "source": []
  }
 ],
 "metadata": {
  "kernelspec": {
   "display_name": "Python 3 (ipykernel)",
   "language": "python",
   "name": "python3"
  },
  "language_info": {
   "codemirror_mode": {
    "name": "ipython",
    "version": 3
   },
   "file_extension": ".py",
   "mimetype": "text/x-python",
   "name": "python",
   "nbconvert_exporter": "python",
   "pygments_lexer": "ipython3",
   "version": "3.10.9"
  }
 },
 "nbformat": 4,
 "nbformat_minor": 5
}
