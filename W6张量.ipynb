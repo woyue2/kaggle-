{
 "cells": [
  {
   "cell_type": "code",
   "execution_count": 3,
   "metadata": {},
   "outputs": [],
   "source": [
    "import torch"
   ]
  },
  {
   "cell_type": "code",
   "execution_count": 7,
   "metadata": {},
   "outputs": [],
   "source": [
    "tensor_a = torch.tensor(\n",
    "    [1,2,3]\n",
    ")\n",
    "tensor_b =torch.tensor(\n",
    "    [\n",
    "    [1,2,3],\n",
    "    [4,5,6]\n",
    "    ]\n",
    ")"
   ]
  },
  {
   "cell_type": "code",
   "execution_count": 9,
   "metadata": {},
   "outputs": [
    {
     "name": "stdout",
     "output_type": "stream",
     "text": [
      "tensor([[2, 4, 6],\n",
      "        [5, 7, 9]])\n",
      "tensor([[ 0,  0,  0],\n",
      "        [-3, -3, -3]])\n",
      "tensor([[ 1,  4,  9],\n",
      "        [ 4, 10, 18]])\n",
      "tensor([[1.0000, 1.0000, 1.0000],\n",
      "        [0.2500, 0.4000, 0.5000]])\n",
      "tensor([[ 1,  4,  9],\n",
      "        [ 4, 10, 18]])\n"
     ]
    }
   ],
   "source": [
    "print(tensor_a + tensor_b)\n",
    "print(tensor_a - tensor_b)\n",
    "print(tensor_a * tensor_b)\n",
    "print(tensor_a / tensor_b)\n",
    "print(torch.mul(tensor_a, tensor_b)) # 等价于*"
   ]
  },
  {
   "cell_type": "code",
   "execution_count": null,
   "metadata": {},
   "outputs": [],
   "source": []
  }
 ],
 "metadata": {
  "kernelspec": {
   "display_name": "base",
   "language": "python",
   "name": "python3"
  },
  "language_info": {
   "codemirror_mode": {
    "name": "ipython",
    "version": 3
   },
   "file_extension": ".py",
   "mimetype": "text/x-python",
   "name": "python",
   "nbconvert_exporter": "python",
   "pygments_lexer": "ipython3",
   "version": "3.10.9"
  },
  "orig_nbformat": 4
 },
 "nbformat": 4,
 "nbformat_minor": 2
}
