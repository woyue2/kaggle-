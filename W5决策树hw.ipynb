{
 "cells": [
  {
   "attachments": {},
   "cell_type": "markdown",
   "metadata": {},
   "source": [
    "```\n",
    "使用sklearn的决策树算法对葡萄酒数据集进行分类，要求：\n",
    "(1)划分训练集和测试集（测试集占20%）\n",
    "(2)对测试集的预测类别标签和真实标签进行对比\n",
    "(3)输出分类的准确率\n",
    "(4)调整参数比较不同算法（ID3， CART）的分类效果。\n",
    "```"
   ]
  },
  {
   "cell_type": "code",
   "execution_count": 1,
   "metadata": {},
   "outputs": [],
   "source": [
    "from sklearn.datasets import load_wine\n",
    "from sklearn.model_selection import train_test_split\n",
    "from sklearn.tree import DecisionTreeClassifier\n",
    "from sklearn.metrics import accuracy_score\n"
   ]
  },
  {
   "cell_type": "code",
   "execution_count": 2,
   "metadata": {},
   "outputs": [
    {
     "name": "stdout",
     "output_type": "stream",
     "text": [
      "ID3预测结果: [0 0 1 0 1 0 1 2 1 0 0 1 0 1 0 1 1 1 0 1 0 1 1 2 2 2 1 1 1 0 0 1 2 0 0 0]\n",
      "真实标签: [0 0 2 0 1 0 1 2 1 2 0 2 0 1 0 1 1 1 0 1 0 1 1 2 2 2 1 1 1 0 0 1 2 0 0 0]\n",
      "CART预测结果: [0 0 2 0 1 0 1 2 1 2 1 0 0 1 0 1 1 1 0 1 0 1 1 2 2 2 1 1 1 0 0 1 2 0 0 0]\n",
      "真实标签: [0 0 2 0 1 0 1 2 1 2 0 2 0 1 0 1 1 1 0 1 0 1 1 2 2 2 1 1 1 0 0 1 2 0 0 0]\n",
      "ID3分类准确率: 0.9166666666666666\n",
      "CART分类准确率: 0.9444444444444444\n"
     ]
    }
   ],
   "source": [
    "# 加载葡萄酒数据集\n",
    "wine = load_wine()\n",
    "X = wine.data\n",
    "y = wine.target\n",
    "# 划分训练集和测试集\n",
    "X_train, X_test, y_train, y_test = train_test_split(X, y, test_size=0.2, random_state=42)\n",
    "# 创建并训练ID3决策树模型\n",
    "id3_classifier = DecisionTreeClassifier(criterion='entropy')\n",
    "id3_classifier.fit(X_train, y_train)\n",
    "# 创建并训练CART决策树模型\n",
    "cart_classifier = DecisionTreeClassifier(criterion='gini')\n",
    "cart_classifier.fit(X_train, y_train)\n",
    "# 在测试集上进行预测\n",
    "id3_predictions = id3_classifier.predict(X_test)\n",
    "cart_predictions = cart_classifier.predict(X_test)\n",
    "# 对比预测结果和真实标签\n",
    "print(\"ID3预测结果:\", id3_predictions)\n",
    "print(\"真实标签:\", y_test)\n",
    "print(\"CART预测结果:\", cart_predictions)\n",
    "print(\"真实标签:\", y_test)\n",
    "# 计算并输出分类准确率\n",
    "id3_accuracy = accuracy_score(y_test, id3_predictions)\n",
    "cart_accuracy = accuracy_score(y_test, cart_predictions)\n",
    "print(\"ID3分类准确率:\", id3_accuracy)\n",
    "print(\"CART分类准确率:\", cart_accuracy)"
   ]
  }
 ],
 "metadata": {
  "kernelspec": {
   "display_name": "base",
   "language": "python",
   "name": "python3"
  },
  "language_info": {
   "codemirror_mode": {
    "name": "ipython",
    "version": 3
   },
   "file_extension": ".py",
   "mimetype": "text/x-python",
   "name": "python",
   "nbconvert_exporter": "python",
   "pygments_lexer": "ipython3",
   "version": "3.10.9"
  },
  "orig_nbformat": 4
 },
 "nbformat": 4,
 "nbformat_minor": 2
}
