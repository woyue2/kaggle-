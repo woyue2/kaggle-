{
 "cells": [
  {
   "cell_type": "code",
   "execution_count": null,
   "metadata": {},
   "outputs": [],
   "source": [
    "# CRF\n",
    "# Conditional Random Fields，CRF"
   ]
  },
  {
   "cell_type": "code",
   "execution_count": 3,
   "metadata": {},
   "outputs": [],
   "source": [
    "def showName(func):\n",
    "    def wrap(*args, **kwargs):\n",
    "        print(func.__name__)\n",
    "        return func(*args, **kwargs)\n",
    "    return wrap"
   ]
  },
  {
   "cell_type": "code",
   "execution_count": 2,
   "metadata": {},
   "outputs": [
    {
     "name": "stdout",
     "output_type": "stream",
     "text": [
      "0.6224593312018546\n"
     ]
    }
   ],
   "source": [
    "import numpy as np\n",
    "\n",
    "class CRF:\n",
    "    @showName\n",
    "    def __init__(self, feature_functions, weights):\n",
    "        self.feature_functions = feature_functions\n",
    "        self.weights = weights\n",
    "\n",
    "    @showName\n",
    "    def compute_score(self, observations, labels):\n",
    "        score = 0\n",
    "        for i, feature_func in enumerate(self.feature_functions):\n",
    "            score += self.weights[i] * feature_func(observations, labels)\n",
    "        return score\n",
    "\n",
    "    @showName\n",
    "    def compute_partition_function(self, observations):\n",
    "        possible_labels = ['A', 'B']\n",
    "        scores = [self.compute_score(observations, [label]) for label in possible_labels]\n",
    "        return np.log(np.sum(np.exp(scores)))\n",
    "\n",
    "    @showName\n",
    "    def compute_posterior_probability(self, observations, labels):\n",
    "        score = self.compute_score(observations, labels)\n",
    "        partition_function = self.compute_partition_function(observations)\n",
    "        return np.exp(score - partition_function)\n",
    "\n",
    "# 示例用法\n",
    "def feature_function(observations, labels):\n",
    "    # 定义特征函数，此处简化为根据观测和标签的组合返回固定值\n",
    "    return 1 if observations[0] == 'O1' and labels[0] == 'A' else 0\n",
    "\n",
    "feature_functions = [feature_function]  # 定义特征函数列表\n",
    "weights = np.array([0.5])  # 定义权重\n",
    "\n",
    "crf = CRF(feature_functions, weights)\n",
    "observations = ['O1']\n",
    "labels = ['A']\n",
    "posterior_prob = crf.compute_posterior_probability(observations, labels)\n",
    "print(posterior_prob)"
   ]
  }
 ],
 "metadata": {
  "kernelspec": {
   "display_name": "base",
   "language": "python",
   "name": "python3"
  },
  "language_info": {
   "codemirror_mode": {
    "name": "ipython",
    "version": 3
   },
   "file_extension": ".py",
   "mimetype": "text/x-python",
   "name": "python",
   "nbconvert_exporter": "python",
   "pygments_lexer": "ipython3",
   "version": "3.10.9"
  },
  "orig_nbformat": 4
 },
 "nbformat": 4,
 "nbformat_minor": 2
}
