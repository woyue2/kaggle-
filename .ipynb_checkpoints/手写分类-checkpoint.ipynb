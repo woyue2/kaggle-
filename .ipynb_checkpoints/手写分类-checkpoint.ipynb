{
 "cells": [
  {
   "cell_type": "code",
   "execution_count": 85,
   "id": "8cf9de52",
   "metadata": {},
   "outputs": [],
   "source": [
    "import numpy as np\n",
    "import random"
   ]
  },
  {
   "cell_type": "code",
   "execution_count": 183,
   "id": "8b5f0ab2",
   "metadata": {},
   "outputs": [],
   "source": [
    "def readOneLine(content : str):\n",
    "    content = content[0:-1]\n",
    "    lst = content.split(',')\n",
    "    for i in range(len(lst)):\n",
    "        if lst[i] == '?':\n",
    "            return []\n",
    "        else:\n",
    "            lst[i] = int(lst[i])\n",
    "        id, f1, f2, f3, f4, f5, f6, f7, f8, f9, state = \\\n",
    "        lst[0], lst[1], lst[2], lst[3], lst[4], lst[5], lst[6], lst[7], lst[8], lst[9], lst[10]\n",
    "    return [id, f1, f2, f3, f4, f5, f6, f7, f8, f9, state]\n",
    "\n",
    "def getX(data : list):\n",
    "    x0 = 1\n",
    "    x1 = data[1]\n",
    "    x2 = data[2]\n",
    "    x3 = data[3]\n",
    "    x4 = data[4]\n",
    "    x5 = data[5]\n",
    "    x6 = data[6]\n",
    "    x7 = data[7]\n",
    "    x8 = data[8]\n",
    "    x9 = data[9]   \n",
    "    return [x0, x1, x2, x3, x4, x5, x6, x7, x8, x9]\n",
    "\n",
    "def getCol(data, index:int):\n",
    "    lst = []\n",
    "    for i in range(len(data)):\n",
    "        lst.append(data[i][index])\n",
    "    return lst\n",
    "\n",
    "def sigmoid(z):\n",
    "    return 1 / (1 + np.exp(-z))\n",
    "\n",
    "def getLoss(y, y_pred):\n",
    "    return -np.mean(y * np.log(y_pred) + (1 - y) * np.log(1 - y_pred))\n",
    "\n",
    "def updateWeight(lst_w : lst, part : lst, lr = 0.1):\n",
    "    par_lst_w0 = 1\n",
    "    lst_w[1] = lst_w[1] - lr * \n",
    "    return lst_w"
   ]
  },
  {
   "cell_type": "code",
   "execution_count": 197,
   "id": "d6c30aec",
   "metadata": {},
   "outputs": [],
   "source": [
    "# read data\n",
    "file = open(\"data.csv\", \"r\")\n",
    "content = file.readlines()\n",
    "data = []\n",
    "for i in range(len(content)):\n",
    "    data.append(readOneLine(content[i]))\n",
    "data_fil = []\n",
    "for i in range(len(data)):\n",
    "    if data[i]:\n",
    "        data_fil.append(data[i])\n",
    "data = data_fil\n",
    "\n",
    "# split X_train, y_train, X_test, y_test\n",
    "X = []\n",
    "for i in range(len(data)):\n",
    "    lst = getX(data[i])\n",
    "    X.append(lst)\n",
    "Y = []\n",
    "for i in range(len(data)):\n",
    "    Y.append(data[i][-1])\n",
    "X_train, X_test = X[0:599], X[600:]\n",
    "y_train, y_test = Y[0:599], Y[600:]\n",
    "\n",
    "# initiate w_i\n",
    "# lst_w = [w0, w1, w2, w3, w4, w5, w6, w7, w8, w9] \n",
    "lst_w = np.ones((10,1))\n",
    "# predict\n",
    "y_pred = np.dot(np.array(X_train), np.array(lst_w))\n",
    "# sigmoid\n",
    "sig_y_pred = sigmoid(y_pred)\n",
    "sig_y_train = sigmoid(np.array(y_train))\n",
    "# loss\n",
    "loss = getLoss(sig_y_pred, sig_y_train) # 0.08607269003900282\n",
    "\n",
    "while (loss > 1e-6):\n",
    "    "
   ]
  },
  {
   "cell_type": "code",
   "execution_count": 198,
   "id": "05396b5b",
   "metadata": {},
   "outputs": [
    {
     "data": {
      "text/plain": [
       "0.08607269003900282"
      ]
     },
     "execution_count": 198,
     "metadata": {},
     "output_type": "execute_result"
    }
   ],
   "source": [
    "loss"
   ]
  },
  {
   "cell_type": "code",
   "execution_count": null,
   "id": "9df04718",
   "metadata": {},
   "outputs": [],
   "source": []
  }
 ],
 "metadata": {
  "kernelspec": {
   "display_name": "Python 3 (ipykernel)",
   "language": "python",
   "name": "python3"
  },
  "language_info": {
   "codemirror_mode": {
    "name": "ipython",
    "version": 3
   },
   "file_extension": ".py",
   "mimetype": "text/x-python",
   "name": "python",
   "nbconvert_exporter": "python",
   "pygments_lexer": "ipython3",
   "version": "3.11.5"
  }
 },
 "nbformat": 4,
 "nbformat_minor": 5
}
