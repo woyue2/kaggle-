{
 "cells": [
  {
   "cell_type": "code",
   "execution_count": 1,
   "id": "0be38d88",
   "metadata": {},
   "outputs": [],
   "source": [
    "import pandas as pd\n",
    "import numpy as np\n",
    "\n",
    "# 生成示例数据\n",
    "np.random.seed(0)\n",
    "names = [\"Emma\", \"Liam\", \"Olivia\", \"Noah\", \"Ava\", \"Isabella\", \"Sophia\", \"Mia\", \"Charlotte\", \"Amelia\"]\n",
    "birth_years = np.random.randint(2010, 2020, size=100)\n",
    "genders = np.random.choice([\"M\", \"F\"], size=100)\n",
    "counts = np.random.randint(1, 1000, size=100)\n",
    "\n",
    "# 创建 DataFrame\n",
    "data = pd.DataFrame({\"Name\": np.random.choice(names, size=100),\n",
    "                     \"Birth Year\": birth_years,\n",
    "                     \"Gender\": genders,\n",
    "                     \"Count\": counts})\n",
    "\n",
    "# 保存为 txt 文件\n",
    "data.to_csv(\"baby_names.txt\", sep=\"\\t\", index=False)"
   ]
  },
  {
   "cell_type": "code",
   "execution_count": 2,
   "id": "a1f259f9",
   "metadata": {},
   "outputs": [
    {
     "data": {
      "text/plain": [
       "array([465, 957, 890, 887, 118, 446, 596, 674, 873, 929, 229, 508, 764,\n",
       "       122, 327, 470, 288, 526, 840, 697, 153, 592,  42, 275, 553, 439,\n",
       "       208, 780, 167, 112, 350, 130, 736, 887, 813, 217, 382,  25,  68,\n",
       "       979, 772, 235, 717, 999, 292, 727, 702, 710, 728, 556,  33,  12,\n",
       "       617, 213, 139, 695, 422, 638, 669, 624, 489, 771, 540, 980, 218,\n",
       "       664, 822, 308, 175, 149, 950, 542, 580, 548, 808, 394,  74, 298,\n",
       "       920, 900, 815, 731, 947, 877, 772, 800, 778, 395, 540, 430, 200,\n",
       "       424,  62, 342, 866,  45, 803, 931,  89,  34])"
      ]
     },
     "execution_count": 2,
     "metadata": {},
     "output_type": "execute_result"
    }
   ],
   "source": [
    "counts"
   ]
  },
  {
   "cell_type": "code",
   "execution_count": 3,
   "id": "7564a6c2",
   "metadata": {},
   "outputs": [
    {
     "data": {
      "text/plain": [
       "array(['M', 'F', 'F', 'M', 'M', 'F', 'M', 'F', 'F', 'F', 'F', 'M', 'M',\n",
       "       'M', 'F', 'M', 'F', 'F', 'F', 'M', 'F', 'M', 'M', 'F', 'M', 'F',\n",
       "       'F', 'M', 'M', 'F', 'M', 'F', 'M', 'F', 'M', 'F', 'M', 'F', 'M',\n",
       "       'M', 'M', 'F', 'M', 'F', 'M', 'F', 'M', 'M', 'M', 'M', 'M', 'F',\n",
       "       'M', 'M', 'F', 'M', 'M', 'M', 'F', 'M', 'M', 'F', 'M', 'F', 'M',\n",
       "       'M', 'F', 'F', 'M', 'M', 'M', 'F', 'F', 'M', 'M', 'M', 'M', 'M',\n",
       "       'F', 'M', 'F', 'M', 'M', 'M', 'F', 'F', 'F', 'M', 'M', 'F', 'F',\n",
       "       'F', 'F', 'M', 'M', 'M', 'F', 'F', 'M', 'F'], dtype='<U1')"
      ]
     },
     "execution_count": 3,
     "metadata": {},
     "output_type": "execute_result"
    }
   ],
   "source": [
    "genders"
   ]
  },
  {
   "cell_type": "code",
   "execution_count": null,
   "id": "dddb0e5b",
   "metadata": {},
   "outputs": [],
   "source": []
  }
 ],
 "metadata": {
  "kernelspec": {
   "display_name": "Python 3 (ipykernel)",
   "language": "python",
   "name": "python3"
  },
  "language_info": {
   "codemirror_mode": {
    "name": "ipython",
    "version": 3
   },
   "file_extension": ".py",
   "mimetype": "text/x-python",
   "name": "python",
   "nbconvert_exporter": "python",
   "pygments_lexer": "ipython3",
   "version": "3.10.9"
  }
 },
 "nbformat": 4,
 "nbformat_minor": 5
}
