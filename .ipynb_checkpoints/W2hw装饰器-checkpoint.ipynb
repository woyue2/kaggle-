{
 "cells": [
  {
   "cell_type": "markdown",
   "id": "a6d3b4b1",
   "metadata": {},
   "source": [
    "4.请编写程序模拟奶茶点单的过程。\n",
    "\n",
    "(1) 用户可以要求买中杯，大杯和超大杯的奶茶，每种杯型价格分别为6元， 8元以及10元；\n",
    "\n",
    "(2) 茶底可以选择乌龙茶、绿茶、红茶，价格分别为2元、3元、4元；\n",
    "\n",
    "(3) 加料可以选择珍珠、椰果、奶盖或者不加，价格分别为1元、2元、3元和0元，加料可以多选，例如可以同时选择珍珠和椰果；\n",
    "\n",
    "(4) 用户完成奶茶定制后系统会输出用户点的奶茶的杯型、茶底和小料信息并输出总价。\n",
    "\n",
    "使用装饰器设计模式"
   ]
  },
  {
   "cell_type": "markdown",
   "id": "b9c8ffc2",
   "metadata": {},
   "source": [
    "## 装饰器进阶！"
   ]
  },
  {
   "cell_type": "markdown",
   "id": "607262ad",
   "metadata": {},
   "source": [
    "前传\n",
    "\n",
    "http://t.csdnimg.cn/ZkiUr"
   ]
  },
  {
   "cell_type": "code",
   "execution_count": 4,
   "id": "0a79721f",
   "metadata": {},
   "outputs": [],
   "source": [
    "# 简单来说就是添加新功能\n",
    "# 不改变原函数\n",
    "# 耦合性⬆️"
   ]
  },
  {
   "cell_type": "markdown",
   "id": "c926fe19",
   "metadata": {},
   "source": [
    "最强的其实是测试validate\n",
    "\n",
    "如果需要批量增加，就可以直接@decorator搞定"
   ]
  },
  {
   "cell_type": "code",
   "execution_count": 17,
   "id": "9873d01e",
   "metadata": {
    "scrolled": true
   },
   "outputs": [
    {
     "name": "stdout",
     "output_type": "stream",
     "text": [
      "med\n",
      "oolong\n",
      "pearls\n",
      "order\n"
     ]
    },
    {
     "ename": "Exception",
     "evalue": "无效杯型",
     "output_type": "error",
     "traceback": [
      "\u001b[0;31m---------------------------------------------------------------------------\u001b[0m",
      "\u001b[0;31mException\u001b[0m                                 Traceback (most recent call last)",
      "Cell \u001b[0;32mIn[17], line 27\u001b[0m\n\u001b[1;32m     24\u001b[0m   \u001b[38;5;28mprint\u001b[39m(\u001b[38;5;124mf\u001b[39m\u001b[38;5;124m\"\u001b[39m\u001b[38;5;124m ordered a \u001b[39m\u001b[38;5;132;01m{\u001b[39;00mcup\u001b[38;5;132;01m}\u001b[39;00m\u001b[38;5;124m cup of tea with \u001b[39m\u001b[38;5;132;01m{\u001b[39;00mtea\u001b[38;5;132;01m}\u001b[39;00m\u001b[38;5;124m and \u001b[39m\u001b[38;5;132;01m{\u001b[39;00mtopping\u001b[38;5;132;01m}\u001b[39;00m\u001b[38;5;124m\"\u001b[39m)\n\u001b[1;32m     26\u001b[0m \u001b[38;5;66;03m# 用户点单  \u001b[39;00m\n\u001b[0;32m---> 27\u001b[0m \u001b[43morder\u001b[49m\u001b[43m(\u001b[49m\u001b[38;5;124;43m\"\u001b[39;49m\u001b[38;5;124;43mmed\u001b[39;49m\u001b[38;5;124;43m\"\u001b[39;49m\u001b[43m,\u001b[49m\u001b[43m \u001b[49m\u001b[38;5;124;43m\"\u001b[39;49m\u001b[38;5;124;43moolong\u001b[39;49m\u001b[38;5;124;43m\"\u001b[39;49m\u001b[43m,\u001b[49m\u001b[43m \u001b[49m\u001b[38;5;124;43m\"\u001b[39;49m\u001b[38;5;124;43mpearls\u001b[39;49m\u001b[38;5;124;43m\"\u001b[39;49m\u001b[43m)\u001b[49m\n",
      "Cell \u001b[0;32mIn[17], line 17\u001b[0m, in \u001b[0;36mvalidate.<locals>.wrapper\u001b[0;34m(*args)\u001b[0m\n\u001b[1;32m     15\u001b[0m cup \u001b[38;5;241m=\u001b[39m args[\u001b[38;5;241m0\u001b[39m]\n\u001b[1;32m     16\u001b[0m \u001b[38;5;28;01mif\u001b[39;00m cup \u001b[38;5;129;01mnot\u001b[39;00m \u001b[38;5;129;01min\u001b[39;00m PRICES:\n\u001b[0;32m---> 17\u001b[0m   \u001b[38;5;28;01mraise\u001b[39;00m \u001b[38;5;167;01mException\u001b[39;00m(\u001b[38;5;124m\"\u001b[39m\u001b[38;5;124m无效杯型\u001b[39m\u001b[38;5;124m\"\u001b[39m)\n\u001b[1;32m     18\u001b[0m \u001b[38;5;28;01mreturn\u001b[39;00m func(\u001b[38;5;241m*\u001b[39margs)\n",
      "\u001b[0;31mException\u001b[0m: 无效杯型"
     ]
    }
   ],
   "source": [
    "# 价格\n",
    "PRICES = {\n",
    "  'small': 6,\n",
    "  'medium': 8, \n",
    "  'large': 10\n",
    "}\n",
    "\n",
    "# 校验函数\n",
    "def validate(func):\n",
    "  def wrapper(*args):\n",
    "    # 可traversal     \n",
    "    for item in args:\n",
    "        print(item)\n",
    "    print(func.__name__)\n",
    "    cup = args[0]\n",
    "    if cup not in PRICES:\n",
    "      raise Exception(\"无效杯型\")\n",
    "    return func(*args)  \n",
    "  return wrapper\n",
    "\n",
    "# 点单函数\n",
    "@validate  \n",
    "def order(cup, tea, topping):\n",
    "  print(f\" ordered a {cup} cup of tea with {tea} and {topping}\")\n",
    "\n",
    "# 用户点单  \n",
    "order(\"med\", \"oolong\", \"pearls\")"
   ]
  },
  {
   "cell_type": "code",
   "execution_count": 31,
   "id": "d450ec7e",
   "metadata": {
    "scrolled": true
   },
   "outputs": [
    {
     "name": "stdout",
     "output_type": "stream",
     "text": [
      "Total price is 11\n",
      "Total price is 13\n"
     ]
    },
    {
     "data": {
      "text/plain": [
       "{'cup': 'medium', 'tea': 'oolong', 'toppings': ['pearls', 'coconut']}"
      ]
     },
     "execution_count": 31,
     "metadata": {},
     "output_type": "execute_result"
    }
   ],
   "source": [
    "# 价格字典\n",
    "PRICES = {\n",
    "  # cup prices \n",
    "  'small': 6, \n",
    "  'medium': 8,\n",
    "  'large': 10,\n",
    "\n",
    "  # tea prices\n",
    "  'oolong': 2,\n",
    "  'green': 3,\n",
    "\n",
    "  # toppings \n",
    "  'pearls': 1,\n",
    "  'coconut': 2  # 椰子\n",
    "}\n",
    "\n",
    "# 装饰器计算总价格\n",
    "def calculate_price(func):\n",
    "  def wrapper(*args):\n",
    "    order = func(*args)\n",
    "    cup = order['cup'] \n",
    "    tea = order['tea']\n",
    "    toppings = order['toppings']\n",
    "    \n",
    "    price = PRICES[cup] \n",
    "    price += PRICES[tea]\n",
    "    \n",
    "    for topping in toppings:\n",
    "      price += PRICES[topping]\n",
    "    \n",
    "#     print(func.__name__)\n",
    "    print(f\"Total price is {price}\")\n",
    "    return order\n",
    "  return wrapper\n",
    "\n",
    "# 点单函数    \n",
    "@calculate_price\n",
    "def order_(cup, tea, toppings):\n",
    "   return {'cup':cup, 'tea':tea, 'toppings':toppings}\n",
    "\n",
    "# 用户点单\n",
    "order_('medium', 'oolong', ['pearls'])\n",
    "order_('medium', 'oolong', ['pearls', 'coconut'])"
   ]
  },
  {
   "cell_type": "markdown",
   "id": "0b93b9d9",
   "metadata": {},
   "source": [
    "简便的面向对象 写法 \n",
    "\n",
    "可读性强"
   ]
  },
  {
   "cell_type": "code",
   "execution_count": 32,
   "id": "556b533d",
   "metadata": {},
   "outputs": [],
   "source": [
    "from functools import wraps\n",
    "from dataclasses import dataclass\n",
    "from typing import List"
   ]
  },
  {
   "cell_type": "code",
   "execution_count": 33,
   "id": "a7a4636a",
   "metadata": {},
   "outputs": [],
   "source": [
    "@dataclass\n",
    "class order():\n",
    "    cup:str\n",
    "    tea:str\n",
    "    toppings:str(List)\n",
    "o1 = order('medium', 'oolong', ['pearls', 'coconut'])"
   ]
  },
  {
   "cell_type": "code",
   "execution_count": 34,
   "id": "e718ff25",
   "metadata": {},
   "outputs": [
    {
     "name": "stdout",
     "output_type": "stream",
     "text": [
      "Total price is 13\n"
     ]
    },
    {
     "data": {
      "text/plain": [
       "{'cup': 'medium', 'tea': 'oolong', 'toppings': ['pearls', 'coconut']}"
      ]
     },
     "execution_count": 34,
     "metadata": {},
     "output_type": "execute_result"
    }
   ],
   "source": [
    "order_(o1.cup, o1.tea, o1.toppings)"
   ]
  },
  {
   "cell_type": "code",
   "execution_count": null,
   "id": "35c379a0",
   "metadata": {},
   "outputs": [],
   "source": []
  }
 ],
 "metadata": {
  "kernelspec": {
   "display_name": "Python 3 (ipykernel)",
   "language": "python",
   "name": "python3"
  },
  "language_info": {
   "codemirror_mode": {
    "name": "ipython",
    "version": 3
   },
   "file_extension": ".py",
   "mimetype": "text/x-python",
   "name": "python",
   "nbconvert_exporter": "python",
   "pygments_lexer": "ipython3",
   "version": "3.10.9"
  }
 },
 "nbformat": 4,
 "nbformat_minor": 5
}
